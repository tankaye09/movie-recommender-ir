{
 "cells": [
  {
   "cell_type": "markdown",
   "id": "52fa1ab0",
   "metadata": {},
   "source": [
    "# Content Based Movie Recommender - Semantic BERT"
   ]
  },
  {
   "cell_type": "code",
   "execution_count": 2,
   "id": "7dc736f4",
   "metadata": {},
   "outputs": [],
   "source": [
    "import pandas as pd\n",
    "import pickle\n",
    "import torch\n",
    "import transformers"
   ]
  },
  {
   "cell_type": "markdown",
   "id": "4c918c88",
   "metadata": {},
   "source": [
    "Load dataset"
   ]
  },
  {
   "cell_type": "code",
   "execution_count": 2,
   "id": "eccea0ce",
   "metadata": {},
   "outputs": [
    {
     "data": {
      "text/html": [
       "<div>\n",
       "<style scoped>\n",
       "    .dataframe tbody tr th:only-of-type {\n",
       "        vertical-align: middle;\n",
       "    }\n",
       "\n",
       "    .dataframe tbody tr th {\n",
       "        vertical-align: top;\n",
       "    }\n",
       "\n",
       "    .dataframe thead th {\n",
       "        text-align: right;\n",
       "    }\n",
       "</style>\n",
       "<table border=\"1\" class=\"dataframe\">\n",
       "  <thead>\n",
       "    <tr style=\"text-align: right;\">\n",
       "      <th></th>\n",
       "      <th>Unnamed: 0</th>\n",
       "      <th>index</th>\n",
       "      <th>adult</th>\n",
       "      <th>belongs_to_collection</th>\n",
       "      <th>budget</th>\n",
       "      <th>genres</th>\n",
       "      <th>homepage</th>\n",
       "      <th>id</th>\n",
       "      <th>imdb_id</th>\n",
       "      <th>original_language</th>\n",
       "      <th>...</th>\n",
       "      <th>release_date</th>\n",
       "      <th>revenue</th>\n",
       "      <th>runtime</th>\n",
       "      <th>spoken_languages</th>\n",
       "      <th>status</th>\n",
       "      <th>tagline</th>\n",
       "      <th>title</th>\n",
       "      <th>video</th>\n",
       "      <th>vote_average</th>\n",
       "      <th>vote_count</th>\n",
       "    </tr>\n",
       "  </thead>\n",
       "  <tbody>\n",
       "    <tr>\n",
       "      <th>0</th>\n",
       "      <td>0</td>\n",
       "      <td>0</td>\n",
       "      <td>False</td>\n",
       "      <td>{'id': 10194, 'name': 'Toy Story Collection', ...</td>\n",
       "      <td>30000000</td>\n",
       "      <td>[{'id': 16, 'name': 'Animation'}, {'id': 35, '...</td>\n",
       "      <td>http://toystory.disney.com/toy-story</td>\n",
       "      <td>862</td>\n",
       "      <td>tt0114709</td>\n",
       "      <td>en</td>\n",
       "      <td>...</td>\n",
       "      <td>1995-10-30</td>\n",
       "      <td>373554033.0</td>\n",
       "      <td>81.0</td>\n",
       "      <td>[{'iso_639_1': 'en', 'name': 'English'}]</td>\n",
       "      <td>Released</td>\n",
       "      <td>NaN</td>\n",
       "      <td>Toy Story</td>\n",
       "      <td>False</td>\n",
       "      <td>7.7</td>\n",
       "      <td>5415.0</td>\n",
       "    </tr>\n",
       "    <tr>\n",
       "      <th>1</th>\n",
       "      <td>1</td>\n",
       "      <td>1</td>\n",
       "      <td>False</td>\n",
       "      <td>NaN</td>\n",
       "      <td>65000000</td>\n",
       "      <td>[{'id': 12, 'name': 'Adventure'}, {'id': 14, '...</td>\n",
       "      <td>NaN</td>\n",
       "      <td>8844</td>\n",
       "      <td>tt0113497</td>\n",
       "      <td>en</td>\n",
       "      <td>...</td>\n",
       "      <td>1995-12-15</td>\n",
       "      <td>262797249.0</td>\n",
       "      <td>104.0</td>\n",
       "      <td>[{'iso_639_1': 'en', 'name': 'English'}, {'iso...</td>\n",
       "      <td>Released</td>\n",
       "      <td>Roll the dice and unleash the excitement!</td>\n",
       "      <td>Jumanji</td>\n",
       "      <td>False</td>\n",
       "      <td>6.9</td>\n",
       "      <td>2413.0</td>\n",
       "    </tr>\n",
       "    <tr>\n",
       "      <th>2</th>\n",
       "      <td>2</td>\n",
       "      <td>2</td>\n",
       "      <td>False</td>\n",
       "      <td>{'id': 119050, 'name': 'Grumpy Old Men Collect...</td>\n",
       "      <td>0</td>\n",
       "      <td>[{'id': 10749, 'name': 'Romance'}, {'id': 35, ...</td>\n",
       "      <td>NaN</td>\n",
       "      <td>15602</td>\n",
       "      <td>tt0113228</td>\n",
       "      <td>en</td>\n",
       "      <td>...</td>\n",
       "      <td>1995-12-22</td>\n",
       "      <td>0.0</td>\n",
       "      <td>101.0</td>\n",
       "      <td>[{'iso_639_1': 'en', 'name': 'English'}]</td>\n",
       "      <td>Released</td>\n",
       "      <td>Still Yelling. Still Fighting. Still Ready for...</td>\n",
       "      <td>Grumpier Old Men</td>\n",
       "      <td>False</td>\n",
       "      <td>6.5</td>\n",
       "      <td>92.0</td>\n",
       "    </tr>\n",
       "    <tr>\n",
       "      <th>3</th>\n",
       "      <td>3</td>\n",
       "      <td>3</td>\n",
       "      <td>False</td>\n",
       "      <td>NaN</td>\n",
       "      <td>16000000</td>\n",
       "      <td>[{'id': 35, 'name': 'Comedy'}, {'id': 18, 'nam...</td>\n",
       "      <td>NaN</td>\n",
       "      <td>31357</td>\n",
       "      <td>tt0114885</td>\n",
       "      <td>en</td>\n",
       "      <td>...</td>\n",
       "      <td>1995-12-22</td>\n",
       "      <td>81452156.0</td>\n",
       "      <td>127.0</td>\n",
       "      <td>[{'iso_639_1': 'en', 'name': 'English'}]</td>\n",
       "      <td>Released</td>\n",
       "      <td>Friends are the people who let you be yourself...</td>\n",
       "      <td>Waiting to Exhale</td>\n",
       "      <td>False</td>\n",
       "      <td>6.1</td>\n",
       "      <td>34.0</td>\n",
       "    </tr>\n",
       "    <tr>\n",
       "      <th>4</th>\n",
       "      <td>4</td>\n",
       "      <td>4</td>\n",
       "      <td>False</td>\n",
       "      <td>{'id': 96871, 'name': 'Father of the Bride Col...</td>\n",
       "      <td>0</td>\n",
       "      <td>[{'id': 35, 'name': 'Comedy'}]</td>\n",
       "      <td>NaN</td>\n",
       "      <td>11862</td>\n",
       "      <td>tt0113041</td>\n",
       "      <td>en</td>\n",
       "      <td>...</td>\n",
       "      <td>1995-02-10</td>\n",
       "      <td>76578911.0</td>\n",
       "      <td>106.0</td>\n",
       "      <td>[{'iso_639_1': 'en', 'name': 'English'}]</td>\n",
       "      <td>Released</td>\n",
       "      <td>Just When His World Is Back To Normal... He's ...</td>\n",
       "      <td>Father of the Bride Part II</td>\n",
       "      <td>False</td>\n",
       "      <td>5.7</td>\n",
       "      <td>173.0</td>\n",
       "    </tr>\n",
       "  </tbody>\n",
       "</table>\n",
       "<p>5 rows × 26 columns</p>\n",
       "</div>"
      ],
      "text/plain": [
       "   Unnamed: 0  index  adult  \\\n",
       "0           0      0  False   \n",
       "1           1      1  False   \n",
       "2           2      2  False   \n",
       "3           3      3  False   \n",
       "4           4      4  False   \n",
       "\n",
       "                               belongs_to_collection    budget  \\\n",
       "0  {'id': 10194, 'name': 'Toy Story Collection', ...  30000000   \n",
       "1                                                NaN  65000000   \n",
       "2  {'id': 119050, 'name': 'Grumpy Old Men Collect...         0   \n",
       "3                                                NaN  16000000   \n",
       "4  {'id': 96871, 'name': 'Father of the Bride Col...         0   \n",
       "\n",
       "                                              genres  \\\n",
       "0  [{'id': 16, 'name': 'Animation'}, {'id': 35, '...   \n",
       "1  [{'id': 12, 'name': 'Adventure'}, {'id': 14, '...   \n",
       "2  [{'id': 10749, 'name': 'Romance'}, {'id': 35, ...   \n",
       "3  [{'id': 35, 'name': 'Comedy'}, {'id': 18, 'nam...   \n",
       "4                     [{'id': 35, 'name': 'Comedy'}]   \n",
       "\n",
       "                               homepage     id    imdb_id original_language  \\\n",
       "0  http://toystory.disney.com/toy-story    862  tt0114709                en   \n",
       "1                                   NaN   8844  tt0113497                en   \n",
       "2                                   NaN  15602  tt0113228                en   \n",
       "3                                   NaN  31357  tt0114885                en   \n",
       "4                                   NaN  11862  tt0113041                en   \n",
       "\n",
       "   ... release_date      revenue  runtime  \\\n",
       "0  ...   1995-10-30  373554033.0     81.0   \n",
       "1  ...   1995-12-15  262797249.0    104.0   \n",
       "2  ...   1995-12-22          0.0    101.0   \n",
       "3  ...   1995-12-22   81452156.0    127.0   \n",
       "4  ...   1995-02-10   76578911.0    106.0   \n",
       "\n",
       "                                    spoken_languages    status  \\\n",
       "0           [{'iso_639_1': 'en', 'name': 'English'}]  Released   \n",
       "1  [{'iso_639_1': 'en', 'name': 'English'}, {'iso...  Released   \n",
       "2           [{'iso_639_1': 'en', 'name': 'English'}]  Released   \n",
       "3           [{'iso_639_1': 'en', 'name': 'English'}]  Released   \n",
       "4           [{'iso_639_1': 'en', 'name': 'English'}]  Released   \n",
       "\n",
       "                                             tagline  \\\n",
       "0                                                NaN   \n",
       "1          Roll the dice and unleash the excitement!   \n",
       "2  Still Yelling. Still Fighting. Still Ready for...   \n",
       "3  Friends are the people who let you be yourself...   \n",
       "4  Just When His World Is Back To Normal... He's ...   \n",
       "\n",
       "                         title  video  vote_average vote_count  \n",
       "0                    Toy Story  False           7.7     5415.0  \n",
       "1                      Jumanji  False           6.9     2413.0  \n",
       "2             Grumpier Old Men  False           6.5       92.0  \n",
       "3            Waiting to Exhale  False           6.1       34.0  \n",
       "4  Father of the Bride Part II  False           5.7      173.0  \n",
       "\n",
       "[5 rows x 26 columns]"
      ]
     },
     "execution_count": 2,
     "metadata": {},
     "output_type": "execute_result"
    }
   ],
   "source": [
    "df = pd.read_csv('./movie_lens_dataset/movies_metadata_processed.csv', low_memory=False)\n",
    "df.head()"
   ]
  },
  {
   "cell_type": "code",
   "execution_count": 3,
   "id": "102427e0",
   "metadata": {},
   "outputs": [
    {
     "data": {
      "text/plain": [
       "(41368, 26)"
      ]
     },
     "execution_count": 3,
     "metadata": {},
     "output_type": "execute_result"
    }
   ],
   "source": [
    "df.shape"
   ]
  },
  {
   "cell_type": "markdown",
   "id": "ff298f4a",
   "metadata": {},
   "source": [
    "BERT is basically a stack of transformer/ encoder layers. It understands the context of a sentence efficiently by observing the sentence from the left as well as from right i.e., bidirectionally. It is a pre trained language model, which performs the following two tasks primarily.\n",
    "\n",
    "Masked Language Modelling (MLM)\n",
    "\n",
    "Next Sequence Prediction (NSP)"
   ]
  },
  {
   "cell_type": "markdown",
   "id": "80cb6cc9",
   "metadata": {},
   "source": [
    "### Creating pretrained tokenizer and model"
   ]
  },
  {
   "cell_type": "code",
   "execution_count": 4,
   "id": "f36f5a2e",
   "metadata": {},
   "outputs": [],
   "source": [
    "bert_model=transformers.DistilBertModel\n",
    "berttokenizer=transformers.DistilBertTokenizer\n",
    "weights_type=\"distilbert-base-uncased\""
   ]
  },
  {
   "cell_type": "code",
   "execution_count": 5,
   "id": "7bdc80fe",
   "metadata": {},
   "outputs": [
    {
     "data": {
      "application/vnd.jupyter.widget-view+json": {
       "model_id": "9c5cc73d3b164e018961094006c25300",
       "version_major": 2,
       "version_minor": 0
      },
      "text/plain": [
       "Downloading vocab.txt:   0%|          | 0.00/226k [00:00<?, ?B/s]"
      ]
     },
     "metadata": {},
     "output_type": "display_data"
    },
    {
     "data": {
      "application/vnd.jupyter.widget-view+json": {
       "model_id": "417ce07f075949bfb2420b7886f38c81",
       "version_major": 2,
       "version_minor": 0
      },
      "text/plain": [
       "Downloading tokenizer_config.json:   0%|          | 0.00/28.0 [00:00<?, ?B/s]"
      ]
     },
     "metadata": {},
     "output_type": "display_data"
    },
    {
     "data": {
      "application/vnd.jupyter.widget-view+json": {
       "model_id": "e38fa6b17a084bf2973f8c1b2761849d",
       "version_major": 2,
       "version_minor": 0
      },
      "text/plain": [
       "Downloading config.json:   0%|          | 0.00/483 [00:00<?, ?B/s]"
      ]
     },
     "metadata": {},
     "output_type": "display_data"
    },
    {
     "data": {
      "application/vnd.jupyter.widget-view+json": {
       "model_id": "405a1c0a9e0b402f9fd8b6194999bcc2",
       "version_major": 2,
       "version_minor": 0
      },
      "text/plain": [
       "Downloading pytorch_model.bin:   0%|          | 0.00/256M [00:00<?, ?B/s]"
      ]
     },
     "metadata": {},
     "output_type": "display_data"
    },
    {
     "name": "stderr",
     "output_type": "stream",
     "text": [
      "Some weights of the model checkpoint at distilbert-base-uncased were not used when initializing DistilBertModel: ['vocab_transform.weight', 'vocab_projector.weight', 'vocab_transform.bias', 'vocab_layer_norm.weight', 'vocab_layer_norm.bias', 'vocab_projector.bias']\n",
      "- This IS expected if you are initializing DistilBertModel from the checkpoint of a model trained on another task or with another architecture (e.g. initializing a BertForSequenceClassification model from a BertForPreTraining model).\n",
      "- This IS NOT expected if you are initializing DistilBertModel from the checkpoint of a model that you expect to be exactly identical (initializing a BertForSequenceClassification model from a BertForSequenceClassification model).\n"
     ]
    }
   ],
   "source": [
    "tokenizer=berttokenizer.from_pretrained(weights_type)\n",
    "model=bert_model.from_pretrained(weights_type ,output_hidden_states=True)"
   ]
  },
  {
   "cell_type": "markdown",
   "id": "fe81de68",
   "metadata": {},
   "source": [
    "### Encoding all the movie overviews "
   ]
  },
  {
   "cell_type": "code",
   "execution_count": 6,
   "id": "a624d753",
   "metadata": {},
   "outputs": [],
   "source": [
    "inputs=df[\"overview\"].apply((lambda plot: tokenizer.encode(plot, add_special_tokens=True,max_length=100,truncation=True, padding='longest')))"
   ]
  },
  {
   "cell_type": "markdown",
   "id": "0ce0129a",
   "metadata": {},
   "source": [
    "### Adding padding to max length of 100"
   ]
  },
  {
   "cell_type": "code",
   "execution_count": 7,
   "id": "a3eae442",
   "metadata": {},
   "outputs": [],
   "source": [
    "import numpy as np\n",
    "def padding(list_of_sent):\n",
    "    output=[]\n",
    "    max_len=100\n",
    "    for sent in list_of_sent.values:\n",
    "        padded_sent=sent+[0]*(max_len-len(sent))\n",
    "        output.append(padded_sent)\n",
    "    output = np.array(output)\n",
    "    return output"
   ]
  },
  {
   "cell_type": "code",
   "execution_count": 8,
   "id": "07f773b3",
   "metadata": {},
   "outputs": [],
   "source": [
    "inputs=padding(inputs)"
   ]
  },
  {
   "cell_type": "code",
   "execution_count": 9,
   "id": "49b9eab3",
   "metadata": {},
   "outputs": [
    {
     "data": {
      "text/plain": [
       "array([  101, 22941, 12120,  2848,  7523, 22454,  2604,  2208,  2330,\n",
       "        2341,  8687,  2088,  4895,  9148, 13027,  2135, 13260,  5070,\n",
       "        4639,  2040,  7567,  2503,  2208,  2656,  2095,  2542,  2282,\n",
       "        5070,  2015,  3246,  4071,  3926,  2208, 11268, 19188,  2093,\n",
       "        2424,  2770,  5016, 24091, 17119,  2891,  4763, 10608, 17082,\n",
       "        6492,   102,     0,     0,     0,     0,     0,     0,     0,\n",
       "           0,     0,     0,     0,     0,     0,     0,     0,     0,\n",
       "           0,     0,     0,     0,     0,     0,     0,     0,     0,\n",
       "           0,     0,     0,     0,     0,     0,     0,     0,     0,\n",
       "           0,     0,     0,     0,     0,     0,     0,     0,     0,\n",
       "           0,     0,     0,     0,     0,     0,     0,     0,     0,\n",
       "           0])"
      ]
     },
     "execution_count": 9,
     "metadata": {},
     "output_type": "execute_result"
    }
   ],
   "source": [
    "inputs[1]"
   ]
  },
  {
   "cell_type": "markdown",
   "id": "4d9b6143",
   "metadata": {},
   "source": [
    "### Creating attention mask"
   ]
  },
  {
   "cell_type": "code",
   "execution_count": 10,
   "id": "34d13943",
   "metadata": {},
   "outputs": [],
   "source": [
    "mask=np.where(inputs!=0,1,0)"
   ]
  },
  {
   "cell_type": "markdown",
   "id": "90aa1958",
   "metadata": {},
   "source": [
    "Converting inputs and attention mask into tensors"
   ]
  },
  {
   "cell_type": "code",
   "execution_count": 11,
   "id": "69408957",
   "metadata": {},
   "outputs": [],
   "source": [
    "embedded_inputs=torch.tensor(inputs)\n",
    "attention_mask=torch.tensor(mask)"
   ]
  },
  {
   "cell_type": "code",
   "execution_count": 12,
   "id": "a34df762",
   "metadata": {},
   "outputs": [
    {
     "data": {
      "text/plain": [
       "torch.Size([41368, 100])"
      ]
     },
     "execution_count": 12,
     "metadata": {},
     "output_type": "execute_result"
    }
   ],
   "source": [
    "embedded_inputs.shape"
   ]
  },
  {
   "cell_type": "code",
   "execution_count": 13,
   "id": "d791efe4",
   "metadata": {},
   "outputs": [
    {
     "data": {
      "text/plain": [
       "torch.Size([41368, 100])"
      ]
     },
     "execution_count": 13,
     "metadata": {},
     "output_type": "execute_result"
    }
   ],
   "source": [
    "attention_mask.shape"
   ]
  },
  {
   "cell_type": "markdown",
   "id": "d08b6e38",
   "metadata": {},
   "source": [
    "# Running pretrained model"
   ]
  },
  {
   "cell_type": "markdown",
   "id": "229f0eca",
   "metadata": {},
   "source": [
    "Setting batch size to prevent CPU memory allocation error"
   ]
  },
  {
   "cell_type": "code",
   "execution_count": 14,
   "id": "546c90fb",
   "metadata": {},
   "outputs": [],
   "source": [
    "BATCH_SIZE = 32"
   ]
  },
  {
   "cell_type": "code",
   "execution_count": 15,
   "id": "3a91578a",
   "metadata": {},
   "outputs": [],
   "source": [
    "from torch.utils.data import DataLoader\n",
    "embedded_inputs_dataloader = DataLoader(embedded_inputs, batch_size=BATCH_SIZE)\n",
    "attention_mask_dataloader = DataLoader(attention_mask, batch_size=BATCH_SIZE)"
   ]
  },
  {
   "cell_type": "markdown",
   "id": "acb2ecef",
   "metadata": {},
   "source": [
    "Adding all the last hidden states of every batch into a list"
   ]
  },
  {
   "cell_type": "code",
   "execution_count": 16,
   "id": "930ba4db",
   "metadata": {},
   "outputs": [],
   "source": [
    "device = torch.device('cuda') if torch.cuda.is_available() else torch.device('cpu')\n",
    "model.to(device)\n",
    "\n",
    "output = []\n",
    "\n",
    "with torch.no_grad():\n",
    "    for emb, attn in zip(embedded_inputs_dataloader, attention_mask_dataloader):\n",
    "        states = model(emb, attention_mask=attn)\n",
    "        output.append(states.last_hidden_state)"
   ]
  },
  {
   "cell_type": "code",
   "execution_count": 18,
   "id": "54ffa606",
   "metadata": {},
   "outputs": [
    {
     "name": "stdout",
     "output_type": "stream",
     "text": [
      "output dumped\n"
     ]
    }
   ],
   "source": [
    "with open('./pickle/output.pkl', 'wb') as f:\n",
    "    pickle.dump(output, f, protocol=pickle.HIGHEST_PROTOCOL)\n",
    "    print(\"output dumped\")"
   ]
  },
  {
   "cell_type": "markdown",
   "id": "eca89b60",
   "metadata": {},
   "source": [
    "Concatenating all the hidden states from all batches into a large tensor and extracting the features into a numpy array"
   ]
  },
  {
   "cell_type": "code",
   "execution_count": 3,
   "id": "5b8588c8",
   "metadata": {},
   "outputs": [
    {
     "name": "stdout",
     "output_type": "stream",
     "text": [
      "output loaded\n"
     ]
    }
   ],
   "source": [
    "with open('./pickle/output.pkl', 'rb') as f:\n",
    "    output = pickle.load(f)\n",
    "    print(\"output loaded\")"
   ]
  },
  {
   "cell_type": "code",
   "execution_count": 4,
   "id": "fe0dbf61",
   "metadata": {},
   "outputs": [],
   "source": [
    "output_tensor = torch.cat(output, 0)"
   ]
  },
  {
   "cell_type": "code",
   "execution_count": 5,
   "id": "b4e89736",
   "metadata": {},
   "outputs": [],
   "source": [
    "extracted_features = output_tensor[:,0,:].numpy()"
   ]
  },
  {
   "cell_type": "code",
   "execution_count": 6,
   "id": "bbfd5ac6",
   "metadata": {},
   "outputs": [
    {
     "data": {
      "text/plain": [
       "(41368, 768)"
      ]
     },
     "execution_count": 6,
     "metadata": {},
     "output_type": "execute_result"
    }
   ],
   "source": [
    "extracted_features.shape"
   ]
  },
  {
   "cell_type": "markdown",
   "id": "bd1f3f81",
   "metadata": {},
   "source": [
    "### Saving extracted features into pickle"
   ]
  },
  {
   "cell_type": "code",
   "execution_count": 7,
   "id": "58d54b9c",
   "metadata": {},
   "outputs": [
    {
     "name": "stdout",
     "output_type": "stream",
     "text": [
      "Extracted features saved!\n"
     ]
    }
   ],
   "source": [
    "with open(\"./pickle/bert_extracted_features.pickle\", \"wb\") as handle:\n",
    "    pickle.dump(extracted_features, handle, protocol=pickle.HIGHEST_PROTOCOL)\n",
    "    print(\"Extracted features saved!\")"
   ]
  },
  {
   "cell_type": "markdown",
   "id": "5bf0e3f1",
   "metadata": {},
   "source": [
    "# Getting recommendations"
   ]
  },
  {
   "cell_type": "code",
   "execution_count": 8,
   "id": "cddf70e8",
   "metadata": {},
   "outputs": [],
   "source": [
    "from sklearn.metrics.pairwise import cosine_similarity"
   ]
  },
  {
   "cell_type": "code",
   "execution_count": 9,
   "id": "2fb49b09",
   "metadata": {},
   "outputs": [],
   "source": [
    "with open(\"./pickle/bert_extracted_features.pickle\", \"rb\") as handle:\n",
    "    extracted_features = pickle.load(handle)"
   ]
  },
  {
   "cell_type": "code",
   "execution_count": 10,
   "id": "e268e2ef",
   "metadata": {},
   "outputs": [],
   "source": [
    "cos_sim=cosine_similarity(extracted_features,extracted_features)"
   ]
  },
  {
   "cell_type": "code",
   "execution_count": null,
   "id": "682a78b9",
   "metadata": {},
   "outputs": [],
   "source": [
    "cos_sim.shape"
   ]
  },
  {
   "cell_type": "markdown",
   "id": "ae253b79",
   "metadata": {},
   "source": [
    "### Saving cosine similarity"
   ]
  },
  {
   "cell_type": "code",
   "execution_count": 12,
   "id": "170c6707",
   "metadata": {},
   "outputs": [
    {
     "name": "stdout",
     "output_type": "stream",
     "text": [
      "Consine similarity saved!\n"
     ]
    }
   ],
   "source": [
    "with open(\"./pickle/bert_cosine_similarity.pickle\", \"wb\") as handle:\n",
    "    pickle.dump(cos_sim, handle, protocol=pickle.HIGHEST_PROTOCOL)\n",
    "    print(\"Consine similarity saved!\")"
   ]
  },
  {
   "cell_type": "code",
   "execution_count": 20,
   "id": "c9923202",
   "metadata": {},
   "outputs": [
    {
     "name": "stdout",
     "output_type": "stream",
     "text": [
      "Cosine similarity loaded\n"
     ]
    }
   ],
   "source": [
    "with open('./pickle/bert_cosine_similarity.pickle', 'rb') as f:\n",
    "    cos_sim = pickle.load(f)\n",
    "    print(\"Cosine similarity loaded\")"
   ]
  },
  {
   "cell_type": "markdown",
   "id": "08ef45fb",
   "metadata": {},
   "source": [
    "Loading movie indices"
   ]
  },
  {
   "cell_type": "code",
   "execution_count": 13,
   "id": "8520da1c",
   "metadata": {},
   "outputs": [],
   "source": [
    "with open('./pickle/movie_indices.pickle', 'rb') as handle:\n",
    "    movie_indices = pickle.load(handle)"
   ]
  },
  {
   "cell_type": "code",
   "execution_count": 15,
   "id": "0aac39d4",
   "metadata": {},
   "outputs": [
    {
     "data": {
      "text/html": [
       "<div>\n",
       "<style scoped>\n",
       "    .dataframe tbody tr th:only-of-type {\n",
       "        vertical-align: middle;\n",
       "    }\n",
       "\n",
       "    .dataframe tbody tr th {\n",
       "        vertical-align: top;\n",
       "    }\n",
       "\n",
       "    .dataframe thead th {\n",
       "        text-align: right;\n",
       "    }\n",
       "</style>\n",
       "<table border=\"1\" class=\"dataframe\">\n",
       "  <thead>\n",
       "    <tr style=\"text-align: right;\">\n",
       "      <th></th>\n",
       "      <th>Unnamed: 0</th>\n",
       "      <th>index</th>\n",
       "      <th>adult</th>\n",
       "      <th>belongs_to_collection</th>\n",
       "      <th>budget</th>\n",
       "      <th>genres</th>\n",
       "      <th>homepage</th>\n",
       "      <th>id</th>\n",
       "      <th>imdb_id</th>\n",
       "      <th>original_language</th>\n",
       "      <th>...</th>\n",
       "      <th>release_date</th>\n",
       "      <th>revenue</th>\n",
       "      <th>runtime</th>\n",
       "      <th>spoken_languages</th>\n",
       "      <th>status</th>\n",
       "      <th>tagline</th>\n",
       "      <th>title</th>\n",
       "      <th>video</th>\n",
       "      <th>vote_average</th>\n",
       "      <th>vote_count</th>\n",
       "    </tr>\n",
       "  </thead>\n",
       "  <tbody>\n",
       "    <tr>\n",
       "      <th>0</th>\n",
       "      <td>0</td>\n",
       "      <td>0</td>\n",
       "      <td>False</td>\n",
       "      <td>{'id': 10194, 'name': 'Toy Story Collection', ...</td>\n",
       "      <td>30000000</td>\n",
       "      <td>[{'id': 16, 'name': 'Animation'}, {'id': 35, '...</td>\n",
       "      <td>http://toystory.disney.com/toy-story</td>\n",
       "      <td>862</td>\n",
       "      <td>tt0114709</td>\n",
       "      <td>en</td>\n",
       "      <td>...</td>\n",
       "      <td>1995-10-30</td>\n",
       "      <td>373554033.0</td>\n",
       "      <td>81.0</td>\n",
       "      <td>[{'iso_639_1': 'en', 'name': 'English'}]</td>\n",
       "      <td>Released</td>\n",
       "      <td>NaN</td>\n",
       "      <td>Toy Story</td>\n",
       "      <td>False</td>\n",
       "      <td>7.7</td>\n",
       "      <td>5415.0</td>\n",
       "    </tr>\n",
       "    <tr>\n",
       "      <th>1</th>\n",
       "      <td>1</td>\n",
       "      <td>1</td>\n",
       "      <td>False</td>\n",
       "      <td>NaN</td>\n",
       "      <td>65000000</td>\n",
       "      <td>[{'id': 12, 'name': 'Adventure'}, {'id': 14, '...</td>\n",
       "      <td>NaN</td>\n",
       "      <td>8844</td>\n",
       "      <td>tt0113497</td>\n",
       "      <td>en</td>\n",
       "      <td>...</td>\n",
       "      <td>1995-12-15</td>\n",
       "      <td>262797249.0</td>\n",
       "      <td>104.0</td>\n",
       "      <td>[{'iso_639_1': 'en', 'name': 'English'}, {'iso...</td>\n",
       "      <td>Released</td>\n",
       "      <td>Roll the dice and unleash the excitement!</td>\n",
       "      <td>Jumanji</td>\n",
       "      <td>False</td>\n",
       "      <td>6.9</td>\n",
       "      <td>2413.0</td>\n",
       "    </tr>\n",
       "    <tr>\n",
       "      <th>2</th>\n",
       "      <td>2</td>\n",
       "      <td>2</td>\n",
       "      <td>False</td>\n",
       "      <td>{'id': 119050, 'name': 'Grumpy Old Men Collect...</td>\n",
       "      <td>0</td>\n",
       "      <td>[{'id': 10749, 'name': 'Romance'}, {'id': 35, ...</td>\n",
       "      <td>NaN</td>\n",
       "      <td>15602</td>\n",
       "      <td>tt0113228</td>\n",
       "      <td>en</td>\n",
       "      <td>...</td>\n",
       "      <td>1995-12-22</td>\n",
       "      <td>0.0</td>\n",
       "      <td>101.0</td>\n",
       "      <td>[{'iso_639_1': 'en', 'name': 'English'}]</td>\n",
       "      <td>Released</td>\n",
       "      <td>Still Yelling. Still Fighting. Still Ready for...</td>\n",
       "      <td>Grumpier Old Men</td>\n",
       "      <td>False</td>\n",
       "      <td>6.5</td>\n",
       "      <td>92.0</td>\n",
       "    </tr>\n",
       "    <tr>\n",
       "      <th>3</th>\n",
       "      <td>3</td>\n",
       "      <td>3</td>\n",
       "      <td>False</td>\n",
       "      <td>NaN</td>\n",
       "      <td>16000000</td>\n",
       "      <td>[{'id': 35, 'name': 'Comedy'}, {'id': 18, 'nam...</td>\n",
       "      <td>NaN</td>\n",
       "      <td>31357</td>\n",
       "      <td>tt0114885</td>\n",
       "      <td>en</td>\n",
       "      <td>...</td>\n",
       "      <td>1995-12-22</td>\n",
       "      <td>81452156.0</td>\n",
       "      <td>127.0</td>\n",
       "      <td>[{'iso_639_1': 'en', 'name': 'English'}]</td>\n",
       "      <td>Released</td>\n",
       "      <td>Friends are the people who let you be yourself...</td>\n",
       "      <td>Waiting to Exhale</td>\n",
       "      <td>False</td>\n",
       "      <td>6.1</td>\n",
       "      <td>34.0</td>\n",
       "    </tr>\n",
       "    <tr>\n",
       "      <th>4</th>\n",
       "      <td>4</td>\n",
       "      <td>4</td>\n",
       "      <td>False</td>\n",
       "      <td>{'id': 96871, 'name': 'Father of the Bride Col...</td>\n",
       "      <td>0</td>\n",
       "      <td>[{'id': 35, 'name': 'Comedy'}]</td>\n",
       "      <td>NaN</td>\n",
       "      <td>11862</td>\n",
       "      <td>tt0113041</td>\n",
       "      <td>en</td>\n",
       "      <td>...</td>\n",
       "      <td>1995-02-10</td>\n",
       "      <td>76578911.0</td>\n",
       "      <td>106.0</td>\n",
       "      <td>[{'iso_639_1': 'en', 'name': 'English'}]</td>\n",
       "      <td>Released</td>\n",
       "      <td>Just When His World Is Back To Normal... He's ...</td>\n",
       "      <td>Father of the Bride Part II</td>\n",
       "      <td>False</td>\n",
       "      <td>5.7</td>\n",
       "      <td>173.0</td>\n",
       "    </tr>\n",
       "  </tbody>\n",
       "</table>\n",
       "<p>5 rows × 26 columns</p>\n",
       "</div>"
      ],
      "text/plain": [
       "   Unnamed: 0  index  adult  \\\n",
       "0           0      0  False   \n",
       "1           1      1  False   \n",
       "2           2      2  False   \n",
       "3           3      3  False   \n",
       "4           4      4  False   \n",
       "\n",
       "                               belongs_to_collection    budget  \\\n",
       "0  {'id': 10194, 'name': 'Toy Story Collection', ...  30000000   \n",
       "1                                                NaN  65000000   \n",
       "2  {'id': 119050, 'name': 'Grumpy Old Men Collect...         0   \n",
       "3                                                NaN  16000000   \n",
       "4  {'id': 96871, 'name': 'Father of the Bride Col...         0   \n",
       "\n",
       "                                              genres  \\\n",
       "0  [{'id': 16, 'name': 'Animation'}, {'id': 35, '...   \n",
       "1  [{'id': 12, 'name': 'Adventure'}, {'id': 14, '...   \n",
       "2  [{'id': 10749, 'name': 'Romance'}, {'id': 35, ...   \n",
       "3  [{'id': 35, 'name': 'Comedy'}, {'id': 18, 'nam...   \n",
       "4                     [{'id': 35, 'name': 'Comedy'}]   \n",
       "\n",
       "                               homepage     id    imdb_id original_language  \\\n",
       "0  http://toystory.disney.com/toy-story    862  tt0114709                en   \n",
       "1                                   NaN   8844  tt0113497                en   \n",
       "2                                   NaN  15602  tt0113228                en   \n",
       "3                                   NaN  31357  tt0114885                en   \n",
       "4                                   NaN  11862  tt0113041                en   \n",
       "\n",
       "   ... release_date      revenue  runtime  \\\n",
       "0  ...   1995-10-30  373554033.0     81.0   \n",
       "1  ...   1995-12-15  262797249.0    104.0   \n",
       "2  ...   1995-12-22          0.0    101.0   \n",
       "3  ...   1995-12-22   81452156.0    127.0   \n",
       "4  ...   1995-02-10   76578911.0    106.0   \n",
       "\n",
       "                                    spoken_languages    status  \\\n",
       "0           [{'iso_639_1': 'en', 'name': 'English'}]  Released   \n",
       "1  [{'iso_639_1': 'en', 'name': 'English'}, {'iso...  Released   \n",
       "2           [{'iso_639_1': 'en', 'name': 'English'}]  Released   \n",
       "3           [{'iso_639_1': 'en', 'name': 'English'}]  Released   \n",
       "4           [{'iso_639_1': 'en', 'name': 'English'}]  Released   \n",
       "\n",
       "                                             tagline  \\\n",
       "0                                                NaN   \n",
       "1          Roll the dice and unleash the excitement!   \n",
       "2  Still Yelling. Still Fighting. Still Ready for...   \n",
       "3  Friends are the people who let you be yourself...   \n",
       "4  Just When His World Is Back To Normal... He's ...   \n",
       "\n",
       "                         title  video  vote_average vote_count  \n",
       "0                    Toy Story  False           7.7     5415.0  \n",
       "1                      Jumanji  False           6.9     2413.0  \n",
       "2             Grumpier Old Men  False           6.5       92.0  \n",
       "3            Waiting to Exhale  False           6.1       34.0  \n",
       "4  Father of the Bride Part II  False           5.7      173.0  \n",
       "\n",
       "[5 rows x 26 columns]"
      ]
     },
     "execution_count": 15,
     "metadata": {},
     "output_type": "execute_result"
    }
   ],
   "source": [
    "df = pd.read_csv('./movie_lens_dataset/movies_metadata_processed.csv', low_memory=False)\n",
    "df.head()"
   ]
  },
  {
   "cell_type": "markdown",
   "id": "c7a63164",
   "metadata": {},
   "source": [
    "Load processed dataset"
   ]
  },
  {
   "cell_type": "code",
   "execution_count": 14,
   "id": "6cdad60d",
   "metadata": {},
   "outputs": [
    {
     "data": {
      "text/plain": [
       "title\n",
       "Toy Story                          0\n",
       "Jumanji                            1\n",
       "Grumpier Old Men                   2\n",
       "Waiting to Exhale                  3\n",
       "Father of the Bride Part II        4\n",
       "                               ...  \n",
       "Caged Heat 3000                41363\n",
       "Subdue                         41364\n",
       "Century of Birthing            41365\n",
       "Satan Triumphant               41366\n",
       "Queerama                       41367\n",
       "Length: 41368, dtype: int64"
      ]
     },
     "execution_count": 14,
     "metadata": {},
     "output_type": "execute_result"
    }
   ],
   "source": [
    "movie_indices"
   ]
  },
  {
   "cell_type": "code",
   "execution_count": null,
   "id": "aa75945c",
   "metadata": {},
   "outputs": [],
   "source": [
    "test_movie = \"Toy Story\"\n",
    "movie_index = movie_indices[test_movie]\n",
    "movie_index"
   ]
  },
  {
   "cell_type": "code",
   "execution_count": null,
   "id": "9d0ef198",
   "metadata": {},
   "outputs": [],
   "source": [
    "similarity_scores = pd.Series(cos_sim[movie_index]).sort_values(ascending = False)[1:11]"
   ]
  },
  {
   "cell_type": "code",
   "execution_count": null,
   "id": "8ae45cf3",
   "metadata": {},
   "outputs": [],
   "source": [
    "similarity_scores"
   ]
  },
  {
   "cell_type": "code",
   "execution_count": null,
   "id": "c9d2472e",
   "metadata": {},
   "outputs": [],
   "source": [
    "df[['title','imdb_id']].iloc[similarity_scores.index]"
   ]
  },
  {
   "cell_type": "markdown",
   "id": "7a8c7fc3",
   "metadata": {},
   "source": [
    "Loading cosine similarity"
   ]
  },
  {
   "cell_type": "code",
   "execution_count": null,
   "id": "3e42d851",
   "metadata": {},
   "outputs": [],
   "source": [
    "with open(\"./pickle/bert_cosine_similarity.pickle\", \"rb\") as handle:\n",
    "    cosine_similarity = pickle.load(handle)"
   ]
  },
  {
   "cell_type": "code",
   "execution_count": 17,
   "id": "b568abf7",
   "metadata": {},
   "outputs": [],
   "source": [
    "def getBertRecommendations(name: str, cosine_sim, movie_indices, df):\n",
    "    print(\"Getting recommendations for:\", name)\n",
    "\n",
    "    # Get index of query movie\n",
    "    movie_index = movie_indices[name]\n",
    "    \n",
    "    similarity_scores = pd.DataFrame(cosine_sim[movie_index], columns=['score'])\n",
    "    \n",
    "    # Top 10\n",
    "    top_indices = similarity_scores.sort_values(by=\"score\", ascending=False)[1:11].index\n",
    "    \n",
    "    # Get movie title, release date and poster path\n",
    "    output = df[['title', 'release_date', 'poster_path']].iloc[top_indices]\n",
    "\n",
    "    output['score'] = similarity_scores.sort_values(by=\"score\", ascending=False)['score'][1:11]\n",
    "\n",
    "    output.to_csv('./output/bert/{}.csv'.format(name))\n",
    "    \n",
    "    return output"
   ]
  },
  {
   "cell_type": "markdown",
   "id": "b14f8652",
   "metadata": {},
   "source": [
    "# Evaluation Set                              "
   ]
  },
  {
   "cell_type": "code",
   "execution_count": 25,
   "id": "11b235d1",
   "metadata": {},
   "outputs": [],
   "source": [
    "test_movies = [\"Harry Potter and the Philosopher's Stone\",\n",
    "\"The Matrix\",\n",
    "\"The Dark Knight\",\n",
    "\"Toy Story\",\n",
    "\"The Avengers\",\n",
    "\"The Bourne Identity\",\n",
    "\"The Devil Wears Prada\",\n",
    "\"Mean Girls\",\n",
    "\"Sex and the City\",\n",
    "\"Mission: Impossible - Ghost Protocol\"]"
   ]
  },
  {
   "cell_type": "code",
   "execution_count": 26,
   "id": "a6696346",
   "metadata": {},
   "outputs": [
    {
     "name": "stdout",
     "output_type": "stream",
     "text": [
      "Getting recommendations for: Harry Potter and the Philosopher's Stone\n",
      "                                     title release_date  \\\n",
      "1217                    Young Frankenstein   1974-12-15   \n",
      "14885        Nanny McPhee and the Big Bang   2010-03-26   \n",
      "25611                        Halloweentown   1998-11-10   \n",
      "24376                         The Shortcut   2009-02-07   \n",
      "27573  Barbie in the 12 Dancing Princesses   2006-09-19   \n",
      "2978                 The Cider House Rules   1999-12-17   \n",
      "36149                           The Portal   2014-03-22   \n",
      "7786               Dr. Jekyll and Ms. Hyde   1995-08-25   \n",
      "20211                         The Smurfs 2   2013-07-30   \n",
      "3483                         Puppet Master   1989-10-12   \n",
      "\n",
      "                            poster_path     score  \n",
      "1217   /tQJAWbIjvvqVKLLbIZHtwGw2HTf.jpg  0.943052  \n",
      "14885   /yBNytVM6U3godvMcwcOQWOvL0f.jpg  0.940344  \n",
      "25611  /ih2qNTuutdoG5Ll7CHxNgFpCBX3.jpg  0.940237  \n",
      "24376  /tB4LeBIuKA6e8uLmvjKaEeDwfl1.jpg  0.939665  \n",
      "27573  /8PBjz1xVq7oRUvV5XpWqJZgUBH4.jpg  0.933219  \n",
      "2978   /vAWQenCtBlzICEi9PGY3nz8CWRJ.jpg  0.932796  \n",
      "36149  /bJGDZY49bwGInEWxl1YWweX1Fp2.jpg  0.932298  \n",
      "7786   /aWQNVCPeMnNRxyg1OsCC67SIIWc.jpg  0.931931  \n",
      "20211  /mF2FXzZ3EktWoagU4fzoabNsK6J.jpg  0.931818  \n",
      "3483   /3gMXTOSlpNDfiZ659w19HW8roZ7.jpg  0.931773  \n",
      "\n",
      "\n",
      "Getting recommendations for: The Matrix\n",
      "                                              title release_date  \\\n",
      "17132                Prisoners of the Lost Universe   1983-08-15   \n",
      "4085                                          Krull   1983-07-29   \n",
      "37537                        The Monk and the Demon   2016-09-08   \n",
      "1578                              Starship Troopers   1997-11-06   \n",
      "38426                 Marvel One-Shot: Agent Carter   2013-09-08   \n",
      "17796                                       Lockout   2012-04-12   \n",
      "36575                        Invaders from the Deep   1981-01-01   \n",
      "7587                              This Island Earth   1955-06-01   \n",
      "505                              The Puppet Masters   1994-10-21   \n",
      "38518  Science Fiction Volume One: The Osiris Child   2017-08-31   \n",
      "\n",
      "                            poster_path     score  \n",
      "17132  /rHmw6L1XK81BDYsmEqra1nAvkbp.jpg  0.964903  \n",
      "4085   /xini4pJHApNdYO1go39BmIvBdLT.jpg  0.963710  \n",
      "37537  /3udM0uLchJUU6DYU2wpoZk7AmMj.jpg  0.960801  \n",
      "1578   /zeCD9WkhABFJmPq3SlTozXJGEtr.jpg  0.960083  \n",
      "38426  /eiw4sh6ieAVuJq6E1bSHQkZPfwm.jpg  0.960065  \n",
      "17796  /rE1AMAaUVuzKcPwv3CR8KC0Pv0n.jpg  0.959771  \n",
      "36575  /aBlVrrEvBU5ip2I9lJOMN1nY1em.jpg  0.959072  \n",
      "7587   /dNNZSjrWWwgllcYtQCeo0M5FPdp.jpg  0.958860  \n",
      "505    /tlcrpwjZZdlgArmZiXtr4ecgQfy.jpg  0.958780  \n",
      "38518  /3sx69bH2n2tgvknvq2VROJ6lEXS.jpg  0.958534  \n",
      "\n",
      "\n",
      "Getting recommendations for: The Dark Knight\n",
      "                                                   title release_date  \\\n",
      "149                                       Batman Forever   1995-06-16   \n",
      "17358                              The Dark Knight Rises   2012-07-16   \n",
      "1311                                      Batman Returns   1992-06-19   \n",
      "34648                     Justice League vs. Teen Titans   2016-03-29   \n",
      "35758   Teenage Mutant Ninja Turtles: Out of the Shadows   2016-06-01   \n",
      "1471                                      Batman & Robin   1997-06-20   \n",
      "40953                           Batman Beyond: The Movie   1999-01-10   \n",
      "21839                                      Son of Batman   2014-04-20   \n",
      "30955  LEGO DC Comics Super Heroes: Justice League: A...   2015-08-25   \n",
      "19168            Batman: The Dark Knight Returns, Part 2   2013-01-18   \n",
      "\n",
      "                            poster_path     score  \n",
      "149    /eTMrHEhlFPHNxpqGwpGGTdAa0xV.jpg  0.974642  \n",
      "17358  /dEYnvnUfXrqvqeRSqvIEtmzhoA8.jpg  0.971748  \n",
      "1311   /jX5THE1yW3zTdeD9dupcIyQvKiG.jpg  0.970102  \n",
      "34648  /dQMO9EJxDBkdRzWUEWkbYzrMDC0.jpg  0.965891  \n",
      "35758  /5BCpxPLyp4wGcTribpZ6WtNkVJ5.jpg  0.965534  \n",
      "1471   /79AYCcxw3kSKbhGpx1LiqaCAbwo.jpg  0.964667  \n",
      "40953  /fQP9Oz15Ts5f0RaruqKjAEs0LUs.jpg  0.964419  \n",
      "21839  /j3SFJqZPeeB9g5JMU7UFLgEqj2T.jpg  0.964345  \n",
      "30955  /oaviDpjEvFRKur8aooT7pJKgETx.jpg  0.962837  \n",
      "19168  /wPeorCnD9MRR2S9Dzh4OpIgNLiv.jpg  0.959662  \n",
      "\n",
      "\n",
      "Getting recommendations for: Toy Story\n",
      "                                                   title release_date  \\\n",
      "14703                                        Toy Story 3   2010-06-16   \n",
      "10895                                  Snoopy, Come Home   1972-09-08   \n",
      "2945                                         Toy Story 2   1999-10-30   \n",
      "17924  Don't Eat the Pictures: Sesame Street at the M...   1983-11-16   \n",
      "16399                                      Open Season 3   2010-01-25   \n",
      "24145                                 Garfield Gets Real   2007-09-30   \n",
      "1922                             Honey I Blew Up the Kid   1992-07-16   \n",
      "27332                                       Space Dogs 2   2014-02-06   \n",
      "29792                          The Man Called Flintstone   1966-08-03   \n",
      "38940                               The Little Whirlwind   1941-02-14   \n",
      "\n",
      "                            poster_path     score  \n",
      "14703  /mMltbSxwEdNE4Cv8QYLpzkHWTDo.jpg  0.951804  \n",
      "10895  /9EVwamJv0cGApvT4MpDpbWZPspQ.jpg  0.944566  \n",
      "2945   /3CmK3XurcLeUyMifCR28ibzupbB.jpg  0.943332  \n",
      "17924  /sosGDDeEzxKUK1nYYGa0JUB23CC.jpg  0.941909  \n",
      "16399  /djxT6i7xxJWAayNQY1imB879SbC.jpg  0.941455  \n",
      "24145  /jhSImrUjIDcPCkvgJyFvO7hDZOv.jpg  0.941078  \n",
      "1922   /gwda8CnPAfHGwygclGiKddt60fX.jpg  0.940887  \n",
      "27332  /8yR2CtjBD8TGzYj3P9YOr8m0tUX.jpg  0.940796  \n",
      "29792  /6qyVUkbDBuBOUVVplIDGaQf6jZL.jpg  0.939690  \n",
      "38940  /7Y46ehhvMDPpiNqfAY4CfKpyqqF.jpg  0.938418  \n",
      "\n",
      "\n",
      "Getting recommendations for: The Avengers\n",
      "                                   title release_date  \\\n",
      "27819           Spooks: The Greater Good   2015-04-11   \n",
      "27842                      Some Girls Do   1969-01-23   \n",
      "25884            The Castle of Fu Manchu   1969-05-29   \n",
      "2233                           Lifeforce   1985-06-20   \n",
      "13965                    Sherlock Holmes   2009-12-23   \n",
      "7571   The Adventures of Sherlock Holmes   1939-09-01   \n",
      "39602                     Malibu Express   1985-03-01   \n",
      "21171        MacGyver: Trail to Doomsday   1994-11-24   \n",
      "924                         The 39 Steps   1935-06-01   \n",
      "9562                 If Looks Could Kill   1991-03-15   \n",
      "\n",
      "                            poster_path     score  \n",
      "27819  /mCu8mJRbBD8x187A5WserM9YhOr.jpg  0.951322  \n",
      "27842  /mPrzx8xvF05jn42ueLxKpZSjW96.jpg  0.946569  \n",
      "25884  /pZARi8Zx33JsiAZQCZJPzWrPYjV.jpg  0.945856  \n",
      "2233   /l9R0w3CzF2YCTZTlAZt1E3k2qNy.jpg  0.944664  \n",
      "13965  /22ngurXbLqab7Sko6aTSdwOCe5W.jpg  0.943953  \n",
      "7571   /5IfzofrpSlwgfQG8rUOpHXNAawP.jpg  0.942554  \n",
      "39602  /AfswR9Qh9SNHIqwpQeasALM4Ugf.jpg  0.941766  \n",
      "21171  /3uSzCU0CtigQI0W2EcovoVcKAuJ.jpg  0.941582  \n",
      "924    /9v283GWj9a0AC8wwC4zriNqY1lZ.jpg  0.940870  \n",
      "9562   /3h95RW1sK5xbo0jEB8uqHT2Dvnk.jpg  0.940452  \n",
      "\n",
      "\n",
      "Getting recommendations for: The Bourne Identity\n",
      "                      title release_date                       poster_path  \\\n",
      "31769      The Double O Kid   1992-09-07  /5kjeB1r4vNeDmE7SdgqBGUSTyyI.jpg   \n",
      "2749              The Limey   1999-05-15  /3WFYpRRP0sHc5XlWfUX7dv9mo5S.jpg   \n",
      "10735             Blackjack   1998-06-11  /miH1vLwWBaEevDvtU8M4nAqcFGi.jpg   \n",
      "8527               Mistress   1975-04-25  /sneCpK0oOJcIjXXmeLWbuk0izZy.jpg   \n",
      "19978           World War Z   2013-06-20   /Ha5t0J21eyiq6Az1EXzx0iwsGH.jpg   \n",
      "30126            Cyber Wars   2004-01-01  /m8DyuXYJibitUBJqrE3CcA8CPaT.jpg   \n",
      "36601           Darkest Day   2015-05-15  /cmxGHBqKNPhUnBTwX0badUKgSm9.jpg   \n",
      "35377  My Beloved Bodyguard   2016-04-01  /vchknQnBnexH2rEK3HjKPOEMI8v.jpg   \n",
      "475             Killing Zoe   1993-10-01  /jAnpPlUUhBqztIfCfg3OKsTYMhu.jpg   \n",
      "31252              Momentum   2015-08-01  /y5pIEHodpMNDdf0nzoR90Boa2nN.jpg   \n",
      "\n",
      "          score  \n",
      "31769  0.957235  \n",
      "2749   0.955725  \n",
      "10735  0.954886  \n",
      "8527   0.954857  \n",
      "19978  0.954664  \n",
      "30126  0.954651  \n",
      "36601  0.953251  \n",
      "35377  0.953160  \n",
      "475    0.952021  \n",
      "31252  0.951785  \n",
      "\n",
      "\n",
      "Getting recommendations for: The Devil Wears Prada\n",
      "                             title release_date  \\\n",
      "40466           The Model Solution   2002-04-30   \n",
      "13038  Confessions of a Shopaholic   2009-02-05   \n",
      "13174           The Brothers Bloom   2008-09-09   \n",
      "32258             If the Shoe Fits   1990-12-12   \n",
      "5888                    Starstruck   1982-04-08   \n",
      "31236              Rock the Kasbah   2015-10-22   \n",
      "3054                   Down to You   2000-01-21   \n",
      "23997                        Gloss   2007-08-23   \n",
      "2341                   Spanish Fly   1998-09-10   \n",
      "27809            Just About Famous   2015-04-21   \n",
      "\n",
      "                            poster_path     score  \n",
      "40466  /bRaYNCtieUDtImwOlIO1AH4JU4Y.jpg  0.945639  \n",
      "13038  /8gCZJ8gOxd22Spz1MKiu4b54T2r.jpg  0.939915  \n",
      "13174  /xIz8iwzyjgWGzcIwHKpqhBs77ML.jpg  0.939497  \n",
      "32258  /y51DQdKJX8RCu4NWjufFITsbhNQ.jpg  0.936286  \n",
      "5888   /6Nb11Vp5AE2hX0shfWaY6cxzeOC.jpg  0.935196  \n",
      "31236  /7Ljch9R3uie8lV3z1GUUHZRkvKH.jpg  0.934409  \n",
      "3054   /qnT0Lf9ArebC4iGCAajVnWbbqKc.jpg  0.933977  \n",
      "23997  /jHjmMH27AoxneoqtL246FG3hee6.jpg  0.933911  \n",
      "2341   /boDTUyMS6lIMsXimpY5BOx4kxjM.jpg  0.933649  \n",
      "27809  /yGwWts7u5kFyT8tNEi8B07jGzjS.jpg  0.933630  \n",
      "\n",
      "\n",
      "Getting recommendations for: Mean Girls\n",
      "                        title release_date                       poster_path  \\\n",
      "30251            The Outcasts   2017-04-14  /44jotbmLRwHSIcd4wVAYCVmli8D.jpg   \n",
      "12744   The King of Ping Pong   2008-01-18  /ngY3T8LmTAsVOI9Pehc04ZKtMnv.jpg   \n",
      "4559   Two Can Play That Game   2001-09-07  /nhKRxaO9KWLyyVBr3I5G5mfJtJT.jpg   \n",
      "25585                Expelled   2014-12-12  /9pPoQjHfSv9bQjubtRUdwvso2zE.jpg   \n",
      "18789        The Moth Diaries   2011-09-06  /lFWcxNFzoKXq7SCIhmD65ApeUA6.jpg   \n",
      "12531   My Best Friend's Girl   2008-09-19  /l6OAtXIo1xerbwo8xezvqr6s27Q.jpg   \n",
      "37444       Nightmare Sisters   1988-06-15  /9RYKrTFTG5nyxw1n1lqwbqNEV6M.jpg   \n",
      "29122          Love & Air Sex   2013-10-08  /mqvf2qhMvZdApYObih2fiJszA0E.jpg   \n",
      "24422            Picture This   2008-07-13  /nW9MzfiqwVMloUAJibXKE29JD8C.jpg   \n",
      "15143                  Easy A   2010-09-10  /1pgPO3OfSm2inpODMqg2RNmLW90.jpg   \n",
      "\n",
      "          score  \n",
      "30251  0.957187  \n",
      "12744  0.957070  \n",
      "4559   0.956243  \n",
      "25585  0.955502  \n",
      "18789  0.954354  \n",
      "12531  0.953139  \n",
      "37444  0.953019  \n",
      "29122  0.952952  \n",
      "24422  0.952919  \n",
      "15143  0.952739  \n",
      "\n",
      "\n",
      "Getting recommendations for: Sex and the City\n",
      "                    title release_date                       poster_path  \\\n",
      "7487     I Love You Again   1940-08-09  /h9HL2QLEXieYCRP5SzEXsz4ZcQ7.jpg   \n",
      "875          My Fair Lady   1964-10-21  /AiyysCDn0l5SHO5dTGHsrKjPBN8.jpg   \n",
      "11596   The Nanny Diaries   2007-08-24  /vaARLtfmTHbNpcZycgYLV62M7ye.jpg   \n",
      "720         A Close Shave   1995-12-24  /efFW4euBJIha6WVJoBPSfyui2Aa.jpg   \n",
      "25867  Mother, I Love You   2013-02-11  /1g06sLynd45BLWarebJIR5frLuj.jpg   \n",
      "10459              London   2005-02-10  /pnTRNDfdxdyx2tYKrTPlO3rcKk4.jpg   \n",
      "26278     Home Sweet Hell   2015-03-13  /pFKQZliM8kTv0cGSbvOaCfptUHk.jpg   \n",
      "11039   The Facts of Life   1960-11-14  /oIdIVz8Avn3l7r29G7SurEJzjSa.jpg   \n",
      "14191      Vivacious Lady   1938-08-31  /xyCdblCxFRpaxpHg5RnFXgGDQ0W.jpg   \n",
      "28963               Chloé   1996-01-01  /pj8dBzfGYnCBQK9l0diovSlxdlS.jpg   \n",
      "\n",
      "          score  \n",
      "7487   0.963476  \n",
      "875    0.962660  \n",
      "11596  0.962158  \n",
      "720    0.961879  \n",
      "25867  0.961453  \n",
      "10459  0.961447  \n",
      "26278  0.960931  \n",
      "11039  0.960774  \n",
      "14191  0.960668  \n",
      "28963  0.960297  \n",
      "\n",
      "\n",
      "Getting recommendations for: Mission: Impossible - Ghost Protocol\n",
      "                                                   title release_date  \\\n",
      "35107  Martian Successor Nadesico: The Motion Picture...   1998-08-01   \n",
      "32274                         Mega Shark vs. Mecha Shark   2014-01-28   \n",
      "6604                                            Returner   2002-08-31   \n",
      "10304                                      The Ambushers   1967-12-22   \n",
      "7946               Sky Captain and the World of Tomorrow   2004-09-17   \n",
      "36764            Broken Blade: Book Two - The Split Path   2010-06-26   \n",
      "7865                                        Thunderbirds   2004-07-23   \n",
      "1194                                           Bad Taste   1987-12-01   \n",
      "2400                                      Wing Commander   1999-03-11   \n",
      "2381                      Beneath the Planet of the Apes   1970-05-01   \n",
      "\n",
      "                            poster_path     score  \n",
      "35107  /sI7zPNUUAeVPksuelYcv1CIrzsG.jpg  0.950577  \n",
      "32274  /aD8VXYRfwJbeXOBRhuZR2PJ2FHC.jpg  0.950087  \n",
      "6604   /wwLrsjmzkZtb8gib2AaR5dLCCyV.jpg  0.947886  \n",
      "10304  /rs1qDkJZsG5ubtONMtdfnaVzl7u.jpg  0.947258  \n",
      "7946   /7tO8s7n6Hga2y0NIUT0aoGQelPG.jpg  0.947042  \n",
      "36764  /9scWJkRwBKlFCLWU3juCUHtgvfO.jpg  0.946953  \n",
      "7865   /4rv0fgJkPnzlDmhaANC72ipz9MT.jpg  0.946321  \n",
      "1194   /wopLobnRKqvxA4yycQIvquMx1yn.jpg  0.946077  \n",
      "2400   /pdNhh937iErsAzR6h7pt2mQmclO.jpg  0.945912  \n",
      "2381   /qnJ2trS7tcHxmG4KIUMgAbIM9DG.jpg  0.945871  \n",
      "\n",
      "\n"
     ]
    }
   ],
   "source": [
    "for movie in test_movies:\n",
    "    print(getTfIdfRecommendations(movie, cos_sim, movie_indices, df))\n",
    "    print(\"\\n\")"
   ]
  },
  {
   "cell_type": "code",
   "execution_count": null,
   "id": "77265be0",
   "metadata": {},
   "outputs": [],
   "source": []
  }
 ],
 "metadata": {
  "kernelspec": {
   "display_name": "Python 3.10.0 ('.venv': venv)",
   "language": "python",
   "name": "python3"
  },
  "language_info": {
   "codemirror_mode": {
    "name": "ipython",
    "version": 3
   },
   "file_extension": ".py",
   "mimetype": "text/x-python",
   "name": "python",
   "nbconvert_exporter": "python",
   "pygments_lexer": "ipython3",
   "version": "3.10.0"
  },
  "vscode": {
   "interpreter": {
    "hash": "e406f06e83772e61ee3b8b42d3da2ce527560daa58c5ff24b5bac492ee36807f"
   }
  }
 },
 "nbformat": 4,
 "nbformat_minor": 5
}
