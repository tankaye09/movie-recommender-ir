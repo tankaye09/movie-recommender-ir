{
 "cells": [
  {
   "cell_type": "markdown",
   "id": "52fa1ab0",
   "metadata": {},
   "source": [
    "# Content Based Movie Recommender - Semantic BERT"
   ]
  },
  {
   "cell_type": "code",
   "execution_count": 3,
   "id": "7dc736f4",
   "metadata": {},
   "outputs": [],
   "source": [
    "import pandas as pd\n",
    "import pickle\n",
    "import torch\n",
    "import transformers"
   ]
  },
  {
   "cell_type": "markdown",
   "id": "4c918c88",
   "metadata": {},
   "source": [
    "Load dataset"
   ]
  },
  {
   "cell_type": "code",
   "execution_count": 16,
   "id": "eccea0ce",
   "metadata": {},
   "outputs": [
    {
     "data": {
      "text/html": [
       "<div>\n",
       "<style scoped>\n",
       "    .dataframe tbody tr th:only-of-type {\n",
       "        vertical-align: middle;\n",
       "    }\n",
       "\n",
       "    .dataframe tbody tr th {\n",
       "        vertical-align: top;\n",
       "    }\n",
       "\n",
       "    .dataframe thead th {\n",
       "        text-align: right;\n",
       "    }\n",
       "</style>\n",
       "<table border=\"1\" class=\"dataframe\">\n",
       "  <thead>\n",
       "    <tr style=\"text-align: right;\">\n",
       "      <th></th>\n",
       "      <th>Unnamed: 0</th>\n",
       "      <th>adult</th>\n",
       "      <th>belongs_to_collection</th>\n",
       "      <th>budget</th>\n",
       "      <th>genres</th>\n",
       "      <th>homepage</th>\n",
       "      <th>id</th>\n",
       "      <th>imdb_id</th>\n",
       "      <th>original_language</th>\n",
       "      <th>original_title</th>\n",
       "      <th>...</th>\n",
       "      <th>release_date</th>\n",
       "      <th>revenue</th>\n",
       "      <th>runtime</th>\n",
       "      <th>spoken_languages</th>\n",
       "      <th>status</th>\n",
       "      <th>tagline</th>\n",
       "      <th>title</th>\n",
       "      <th>video</th>\n",
       "      <th>vote_average</th>\n",
       "      <th>vote_count</th>\n",
       "    </tr>\n",
       "  </thead>\n",
       "  <tbody>\n",
       "    <tr>\n",
       "      <th>0</th>\n",
       "      <td>0</td>\n",
       "      <td>False</td>\n",
       "      <td>{'id': 10194, 'name': 'Toy Story Collection', ...</td>\n",
       "      <td>30000000</td>\n",
       "      <td>[{'id': 16, 'name': 'Animation'}, {'id': 35, '...</td>\n",
       "      <td>http://toystory.disney.com/toy-story</td>\n",
       "      <td>862</td>\n",
       "      <td>tt0114709</td>\n",
       "      <td>en</td>\n",
       "      <td>Toy Story</td>\n",
       "      <td>...</td>\n",
       "      <td>1995-10-30</td>\n",
       "      <td>373554033.0</td>\n",
       "      <td>81.0</td>\n",
       "      <td>[{'iso_639_1': 'en', 'name': 'English'}]</td>\n",
       "      <td>Released</td>\n",
       "      <td>NaN</td>\n",
       "      <td>Toy Story</td>\n",
       "      <td>False</td>\n",
       "      <td>7.7</td>\n",
       "      <td>5415.0</td>\n",
       "    </tr>\n",
       "    <tr>\n",
       "      <th>1</th>\n",
       "      <td>1</td>\n",
       "      <td>False</td>\n",
       "      <td>NaN</td>\n",
       "      <td>65000000</td>\n",
       "      <td>[{'id': 12, 'name': 'Adventure'}, {'id': 14, '...</td>\n",
       "      <td>NaN</td>\n",
       "      <td>8844</td>\n",
       "      <td>tt0113497</td>\n",
       "      <td>en</td>\n",
       "      <td>Jumanji</td>\n",
       "      <td>...</td>\n",
       "      <td>1995-12-15</td>\n",
       "      <td>262797249.0</td>\n",
       "      <td>104.0</td>\n",
       "      <td>[{'iso_639_1': 'en', 'name': 'English'}, {'iso...</td>\n",
       "      <td>Released</td>\n",
       "      <td>Roll the dice and unleash the excitement!</td>\n",
       "      <td>Jumanji</td>\n",
       "      <td>False</td>\n",
       "      <td>6.9</td>\n",
       "      <td>2413.0</td>\n",
       "    </tr>\n",
       "    <tr>\n",
       "      <th>2</th>\n",
       "      <td>2</td>\n",
       "      <td>False</td>\n",
       "      <td>{'id': 119050, 'name': 'Grumpy Old Men Collect...</td>\n",
       "      <td>0</td>\n",
       "      <td>[{'id': 10749, 'name': 'Romance'}, {'id': 35, ...</td>\n",
       "      <td>NaN</td>\n",
       "      <td>15602</td>\n",
       "      <td>tt0113228</td>\n",
       "      <td>en</td>\n",
       "      <td>Grumpier Old Men</td>\n",
       "      <td>...</td>\n",
       "      <td>1995-12-22</td>\n",
       "      <td>0.0</td>\n",
       "      <td>101.0</td>\n",
       "      <td>[{'iso_639_1': 'en', 'name': 'English'}]</td>\n",
       "      <td>Released</td>\n",
       "      <td>Still Yelling. Still Fighting. Still Ready for...</td>\n",
       "      <td>Grumpier Old Men</td>\n",
       "      <td>False</td>\n",
       "      <td>6.5</td>\n",
       "      <td>92.0</td>\n",
       "    </tr>\n",
       "    <tr>\n",
       "      <th>3</th>\n",
       "      <td>3</td>\n",
       "      <td>False</td>\n",
       "      <td>NaN</td>\n",
       "      <td>16000000</td>\n",
       "      <td>[{'id': 35, 'name': 'Comedy'}, {'id': 18, 'nam...</td>\n",
       "      <td>NaN</td>\n",
       "      <td>31357</td>\n",
       "      <td>tt0114885</td>\n",
       "      <td>en</td>\n",
       "      <td>Waiting to Exhale</td>\n",
       "      <td>...</td>\n",
       "      <td>1995-12-22</td>\n",
       "      <td>81452156.0</td>\n",
       "      <td>127.0</td>\n",
       "      <td>[{'iso_639_1': 'en', 'name': 'English'}]</td>\n",
       "      <td>Released</td>\n",
       "      <td>Friends are the people who let you be yourself...</td>\n",
       "      <td>Waiting to Exhale</td>\n",
       "      <td>False</td>\n",
       "      <td>6.1</td>\n",
       "      <td>34.0</td>\n",
       "    </tr>\n",
       "    <tr>\n",
       "      <th>4</th>\n",
       "      <td>4</td>\n",
       "      <td>False</td>\n",
       "      <td>{'id': 96871, 'name': 'Father of the Bride Col...</td>\n",
       "      <td>0</td>\n",
       "      <td>[{'id': 35, 'name': 'Comedy'}]</td>\n",
       "      <td>NaN</td>\n",
       "      <td>11862</td>\n",
       "      <td>tt0113041</td>\n",
       "      <td>en</td>\n",
       "      <td>Father of the Bride Part II</td>\n",
       "      <td>...</td>\n",
       "      <td>1995-02-10</td>\n",
       "      <td>76578911.0</td>\n",
       "      <td>106.0</td>\n",
       "      <td>[{'iso_639_1': 'en', 'name': 'English'}]</td>\n",
       "      <td>Released</td>\n",
       "      <td>Just When His World Is Back To Normal... He's ...</td>\n",
       "      <td>Father of the Bride Part II</td>\n",
       "      <td>False</td>\n",
       "      <td>5.7</td>\n",
       "      <td>173.0</td>\n",
       "    </tr>\n",
       "  </tbody>\n",
       "</table>\n",
       "<p>5 rows × 25 columns</p>\n",
       "</div>"
      ],
      "text/plain": [
       "   Unnamed: 0  adult                              belongs_to_collection  \\\n",
       "0           0  False  {'id': 10194, 'name': 'Toy Story Collection', ...   \n",
       "1           1  False                                                NaN   \n",
       "2           2  False  {'id': 119050, 'name': 'Grumpy Old Men Collect...   \n",
       "3           3  False                                                NaN   \n",
       "4           4  False  {'id': 96871, 'name': 'Father of the Bride Col...   \n",
       "\n",
       "     budget                                             genres  \\\n",
       "0  30000000  [{'id': 16, 'name': 'Animation'}, {'id': 35, '...   \n",
       "1  65000000  [{'id': 12, 'name': 'Adventure'}, {'id': 14, '...   \n",
       "2         0  [{'id': 10749, 'name': 'Romance'}, {'id': 35, ...   \n",
       "3  16000000  [{'id': 35, 'name': 'Comedy'}, {'id': 18, 'nam...   \n",
       "4         0                     [{'id': 35, 'name': 'Comedy'}]   \n",
       "\n",
       "                               homepage     id    imdb_id original_language  \\\n",
       "0  http://toystory.disney.com/toy-story    862  tt0114709                en   \n",
       "1                                   NaN   8844  tt0113497                en   \n",
       "2                                   NaN  15602  tt0113228                en   \n",
       "3                                   NaN  31357  tt0114885                en   \n",
       "4                                   NaN  11862  tt0113041                en   \n",
       "\n",
       "                original_title  ... release_date      revenue runtime  \\\n",
       "0                    Toy Story  ...   1995-10-30  373554033.0    81.0   \n",
       "1                      Jumanji  ...   1995-12-15  262797249.0   104.0   \n",
       "2             Grumpier Old Men  ...   1995-12-22          0.0   101.0   \n",
       "3            Waiting to Exhale  ...   1995-12-22   81452156.0   127.0   \n",
       "4  Father of the Bride Part II  ...   1995-02-10   76578911.0   106.0   \n",
       "\n",
       "                                    spoken_languages    status  \\\n",
       "0           [{'iso_639_1': 'en', 'name': 'English'}]  Released   \n",
       "1  [{'iso_639_1': 'en', 'name': 'English'}, {'iso...  Released   \n",
       "2           [{'iso_639_1': 'en', 'name': 'English'}]  Released   \n",
       "3           [{'iso_639_1': 'en', 'name': 'English'}]  Released   \n",
       "4           [{'iso_639_1': 'en', 'name': 'English'}]  Released   \n",
       "\n",
       "                                             tagline  \\\n",
       "0                                                NaN   \n",
       "1          Roll the dice and unleash the excitement!   \n",
       "2  Still Yelling. Still Fighting. Still Ready for...   \n",
       "3  Friends are the people who let you be yourself...   \n",
       "4  Just When His World Is Back To Normal... He's ...   \n",
       "\n",
       "                         title  video vote_average vote_count  \n",
       "0                    Toy Story  False          7.7     5415.0  \n",
       "1                      Jumanji  False          6.9     2413.0  \n",
       "2             Grumpier Old Men  False          6.5       92.0  \n",
       "3            Waiting to Exhale  False          6.1       34.0  \n",
       "4  Father of the Bride Part II  False          5.7      173.0  \n",
       "\n",
       "[5 rows x 25 columns]"
      ]
     },
     "execution_count": 16,
     "metadata": {},
     "output_type": "execute_result"
    }
   ],
   "source": [
    "df = pd.read_csv('./movie_lens_dataset/movies_metadata_processed.csv', low_memory=False)\n",
    "df.head()"
   ]
  },
  {
   "cell_type": "markdown",
   "id": "ff298f4a",
   "metadata": {},
   "source": [
    "BERT is basically a stack of transformer/ encoder layers. It understands the context of a sentence efficiently by observing the sentence from the left as well as from right i.e., bidirectionally. It is a pre trained language model, which performs the following two tasks primarily.\n",
    "\n",
    "Masked Language Modelling (MLM)\n",
    "\n",
    "Next Sequence Prediction (NSP)"
   ]
  },
  {
   "cell_type": "markdown",
   "id": "80cb6cc9",
   "metadata": {},
   "source": [
    "### Creating pretrained tokenizer and model"
   ]
  },
  {
   "cell_type": "code",
   "execution_count": 4,
   "id": "f36f5a2e",
   "metadata": {},
   "outputs": [],
   "source": [
    "bert_model=transformers.DistilBertModel\n",
    "berttokenizer=transformers.DistilBertTokenizer\n",
    "weights_type=\"distilbert-base-uncased\""
   ]
  },
  {
   "cell_type": "code",
   "execution_count": 5,
   "id": "7bdc80fe",
   "metadata": {},
   "outputs": [
    {
     "name": "stderr",
     "output_type": "stream",
     "text": [
      "Some weights of the model checkpoint at distilbert-base-uncased were not used when initializing DistilBertModel: ['vocab_transform.weight', 'vocab_projector.bias', 'vocab_layer_norm.bias', 'vocab_layer_norm.weight', 'vocab_transform.bias', 'vocab_projector.weight']\n",
      "- This IS expected if you are initializing DistilBertModel from the checkpoint of a model trained on another task or with another architecture (e.g. initializing a BertForSequenceClassification model from a BertForPreTraining model).\n",
      "- This IS NOT expected if you are initializing DistilBertModel from the checkpoint of a model that you expect to be exactly identical (initializing a BertForSequenceClassification model from a BertForSequenceClassification model).\n"
     ]
    }
   ],
   "source": [
    "tokenizer=berttokenizer.from_pretrained(weights_type)\n",
    "model=bert_model.from_pretrained(weights_type ,output_hidden_states=True)"
   ]
  },
  {
   "cell_type": "markdown",
   "id": "fe81de68",
   "metadata": {},
   "source": [
    "### Encoding all the movie overviews "
   ]
  },
  {
   "cell_type": "code",
   "execution_count": 6,
   "id": "a624d753",
   "metadata": {},
   "outputs": [],
   "source": [
    "inputs=df[\"overview\"].apply((lambda plot: tokenizer.encode(plot, add_special_tokens=True,max_length=100,truncation=True, padding='longest')))"
   ]
  },
  {
   "cell_type": "markdown",
   "id": "0ce0129a",
   "metadata": {},
   "source": [
    "### Adding padding to max length of 100"
   ]
  },
  {
   "cell_type": "code",
   "execution_count": 7,
   "id": "a3eae442",
   "metadata": {},
   "outputs": [],
   "source": [
    "import numpy as np\n",
    "def padding(list_of_sent):\n",
    "    output=[]\n",
    "    max_len=100\n",
    "    for sent in list_of_sent.values:\n",
    "        padded_sent=sent+[0]*(max_len-len(sent))\n",
    "        output.append(padded_sent)\n",
    "    output = np.array(output)\n",
    "    return output"
   ]
  },
  {
   "cell_type": "code",
   "execution_count": 8,
   "id": "07f773b3",
   "metadata": {},
   "outputs": [],
   "source": [
    "inputs=padding(inputs)"
   ]
  },
  {
   "cell_type": "code",
   "execution_count": 9,
   "id": "49b9eab3",
   "metadata": {},
   "outputs": [
    {
     "data": {
      "text/plain": [
       "array([  101, 22941, 12120,  2848,  7523, 22454,  2604,  2208,  2330,\n",
       "        2341,  8687,  2088,  4895,  9148, 13027,  2135, 13260,  5070,\n",
       "        4639,  7567,  2503,  2208,  2656,  2095,  2542,  2282,  5070,\n",
       "        2015,  3246,  4071,  3926,  2208, 11268, 19188,  2093,  2424,\n",
       "        2770,  5016, 24091, 17119,  2891,  4763, 10608, 17082,  6492,\n",
       "         102,     0,     0,     0,     0,     0,     0,     0,     0,\n",
       "           0,     0,     0,     0,     0,     0,     0,     0,     0,\n",
       "           0,     0,     0,     0,     0,     0,     0,     0,     0,\n",
       "           0,     0,     0,     0,     0,     0,     0,     0,     0,\n",
       "           0,     0,     0,     0,     0,     0,     0,     0,     0,\n",
       "           0,     0,     0,     0,     0,     0,     0,     0,     0,\n",
       "           0])"
      ]
     },
     "execution_count": 9,
     "metadata": {},
     "output_type": "execute_result"
    }
   ],
   "source": [
    "inputs[1]"
   ]
  },
  {
   "cell_type": "markdown",
   "id": "4d9b6143",
   "metadata": {},
   "source": [
    "### Creating attention mask"
   ]
  },
  {
   "cell_type": "code",
   "execution_count": 10,
   "id": "34d13943",
   "metadata": {},
   "outputs": [],
   "source": [
    "mask=np.where(inputs!=0,1,0)"
   ]
  },
  {
   "cell_type": "markdown",
   "id": "90aa1958",
   "metadata": {},
   "source": [
    "Converting inputs and attention mask into tensors"
   ]
  },
  {
   "cell_type": "code",
   "execution_count": 11,
   "id": "69408957",
   "metadata": {},
   "outputs": [],
   "source": [
    "embedded_inputs=torch.tensor(inputs)\n",
    "attention_mask=torch.tensor(mask)"
   ]
  },
  {
   "cell_type": "code",
   "execution_count": 12,
   "id": "a34df762",
   "metadata": {},
   "outputs": [
    {
     "data": {
      "text/plain": [
       "torch.Size([44506, 100])"
      ]
     },
     "execution_count": 12,
     "metadata": {},
     "output_type": "execute_result"
    }
   ],
   "source": [
    "embedded_inputs.shape"
   ]
  },
  {
   "cell_type": "code",
   "execution_count": 13,
   "id": "d791efe4",
   "metadata": {},
   "outputs": [
    {
     "data": {
      "text/plain": [
       "torch.Size([44506, 100])"
      ]
     },
     "execution_count": 13,
     "metadata": {},
     "output_type": "execute_result"
    }
   ],
   "source": [
    "attention_mask.shape"
   ]
  },
  {
   "cell_type": "markdown",
   "id": "d08b6e38",
   "metadata": {},
   "source": [
    "# Running pretrained model"
   ]
  },
  {
   "cell_type": "markdown",
   "id": "229f0eca",
   "metadata": {},
   "source": [
    "Setting batch size to prevent CPU memory allocation error"
   ]
  },
  {
   "cell_type": "code",
   "execution_count": 14,
   "id": "546c90fb",
   "metadata": {},
   "outputs": [],
   "source": [
    "BATCH_SIZE = 32"
   ]
  },
  {
   "cell_type": "code",
   "execution_count": 15,
   "id": "3a91578a",
   "metadata": {},
   "outputs": [],
   "source": [
    "from torch.utils.data import DataLoader\n",
    "embedded_inputs_dataloader = DataLoader(embedded_inputs, batch_size=BATCH_SIZE)\n",
    "attention_mask_dataloader = DataLoader(attention_mask, batch_size=BATCH_SIZE)"
   ]
  },
  {
   "cell_type": "markdown",
   "id": "acb2ecef",
   "metadata": {},
   "source": [
    "Adding all the last hidden states of every batch into a list"
   ]
  },
  {
   "cell_type": "code",
   "execution_count": 16,
   "id": "930ba4db",
   "metadata": {},
   "outputs": [],
   "source": [
    "device = torch.device('cuda') if torch.cuda.is_available() else torch.device('cpu')\n",
    "model.to(device)\n",
    "\n",
    "output = []\n",
    "\n",
    "with torch.no_grad():\n",
    "    for emb, attn in zip(embedded_inputs_dataloader, attention_mask_dataloader):\n",
    "        states = model(emb, attention_mask=attn)\n",
    "        output.append(states.last_hidden_state)"
   ]
  },
  {
   "cell_type": "markdown",
   "id": "eca89b60",
   "metadata": {},
   "source": [
    "Concatenating all the hidden states from all batches into a large tensor and extracting the features into a numpy array"
   ]
  },
  {
   "cell_type": "code",
   "execution_count": 17,
   "id": "fe0dbf61",
   "metadata": {},
   "outputs": [],
   "source": [
    "output_tensor = torch.cat(output, 0)"
   ]
  },
  {
   "cell_type": "code",
   "execution_count": 18,
   "id": "b4e89736",
   "metadata": {},
   "outputs": [],
   "source": [
    "extracted_features = output_tensor[:,0,:].numpy()"
   ]
  },
  {
   "cell_type": "code",
   "execution_count": 19,
   "id": "bbfd5ac6",
   "metadata": {},
   "outputs": [
    {
     "data": {
      "text/plain": [
       "(44506, 768)"
      ]
     },
     "execution_count": 19,
     "metadata": {},
     "output_type": "execute_result"
    }
   ],
   "source": [
    "extracted_features.shape"
   ]
  },
  {
   "cell_type": "markdown",
   "id": "bd1f3f81",
   "metadata": {},
   "source": [
    "### Saving extracted features into pickle"
   ]
  },
  {
   "cell_type": "code",
   "execution_count": 20,
   "id": "58d54b9c",
   "metadata": {},
   "outputs": [
    {
     "name": "stdout",
     "output_type": "stream",
     "text": [
      "Extracted features saved!\n"
     ]
    }
   ],
   "source": [
    "with open(\"./pickle/bert_extracted_features.pickle\", \"wb\") as handle:\n",
    "    pickle.dump(extracted_features, handle, protocol=pickle.HIGHEST_PROTOCOL)\n",
    "    print(\"Extracted features saved!\")"
   ]
  },
  {
   "cell_type": "markdown",
   "id": "5bf0e3f1",
   "metadata": {},
   "source": [
    "# Getting recommendations"
   ]
  },
  {
   "cell_type": "code",
   "execution_count": 1,
   "id": "cddf70e8",
   "metadata": {},
   "outputs": [],
   "source": [
    "from sklearn.metrics.pairwise import cosine_similarity"
   ]
  },
  {
   "cell_type": "code",
   "execution_count": 4,
   "id": "2fb49b09",
   "metadata": {},
   "outputs": [],
   "source": [
    "with open(\"./pickle/bert_extracted_features.pickle\", \"rb\") as handle:\n",
    "    extracted_features = pickle.load(handle)"
   ]
  },
  {
   "cell_type": "code",
   "execution_count": 5,
   "id": "e268e2ef",
   "metadata": {},
   "outputs": [],
   "source": [
    "cos_sim=cosine_similarity(extracted_features,extracted_features)"
   ]
  },
  {
   "cell_type": "code",
   "execution_count": 6,
   "id": "682a78b9",
   "metadata": {},
   "outputs": [
    {
     "data": {
      "text/plain": [
       "(44506, 44506)"
      ]
     },
     "execution_count": 6,
     "metadata": {},
     "output_type": "execute_result"
    }
   ],
   "source": [
    "cos_sim.shape"
   ]
  },
  {
   "cell_type": "markdown",
   "id": "ae253b79",
   "metadata": {},
   "source": [
    "### Saving cosine similarity"
   ]
  },
  {
   "cell_type": "code",
   "execution_count": 7,
   "id": "170c6707",
   "metadata": {},
   "outputs": [
    {
     "name": "stdout",
     "output_type": "stream",
     "text": [
      "Extracted features saved!\n"
     ]
    }
   ],
   "source": [
    "with open(\"./pickle/bert_cosine_similarity.pickle\", \"wb\") as handle:\n",
    "    pickle.dump(cos_sim, handle, protocol=pickle.HIGHEST_PROTOCOL)\n",
    "    print(\"Consine similarity saved!\")"
   ]
  },
  {
   "cell_type": "markdown",
   "id": "08ef45fb",
   "metadata": {},
   "source": [
    "Loading movie indices"
   ]
  },
  {
   "cell_type": "code",
   "execution_count": 10,
   "id": "8520da1c",
   "metadata": {},
   "outputs": [],
   "source": [
    "with open('./pickle/movie_indices.pickle', 'rb') as handle:\n",
    "    movie_indices = pickle.load(handle)"
   ]
  },
  {
   "cell_type": "code",
   "execution_count": null,
   "id": "6cdad60d",
   "metadata": {},
   "outputs": [],
   "source": [
    "movie_indices"
   ]
  },
  {
   "cell_type": "code",
   "execution_count": 11,
   "id": "aa75945c",
   "metadata": {},
   "outputs": [
    {
     "data": {
      "text/plain": [
       "0"
      ]
     },
     "execution_count": 11,
     "metadata": {},
     "output_type": "execute_result"
    }
   ],
   "source": [
    "test_movie = \"Toy Story\"\n",
    "movie_index = movie_indices[test_movie]\n",
    "movie_index"
   ]
  },
  {
   "cell_type": "code",
   "execution_count": null,
   "id": "9d0ef198",
   "metadata": {},
   "outputs": [],
   "source": [
    "similarity_scores = pd.Series(cos_sim[movie_index]).sort_values(ascending = False)[1:11]"
   ]
  },
  {
   "cell_type": "code",
   "execution_count": null,
   "id": "8ae45cf3",
   "metadata": {},
   "outputs": [],
   "source": [
    "similarity_scores"
   ]
  },
  {
   "cell_type": "code",
   "execution_count": null,
   "id": "c9d2472e",
   "metadata": {},
   "outputs": [],
   "source": [
    "df[['title','imdb_id']].iloc[similarity_scores.index]"
   ]
  },
  {
   "cell_type": "markdown",
   "id": "7a8c7fc3",
   "metadata": {},
   "source": [
    "Loading cosine similarity"
   ]
  },
  {
   "cell_type": "code",
   "execution_count": 9,
   "id": "3e42d851",
   "metadata": {},
   "outputs": [],
   "source": [
    "with open(\"./pickle/bert_cosine_similarity.pickle\", \"rb\") as handle:\n",
    "    cosine_similarity = pickle.load(handle)"
   ]
  },
  {
   "cell_type": "code",
   "execution_count": 17,
   "id": "b568abf7",
   "metadata": {},
   "outputs": [],
   "source": [
    "def getRecommendation(title, cosine_similarity, movie_indices, df):\n",
    "    print(\"Getting recommendations for movie: \", title)\n",
    "    movie_index = movie_indices[test_movie]\n",
    "    similarity_scores = pd.Series(cos_sim[movie_index]).sort_values(ascending = False)[1:11]\n",
    "    return df[['title','imdb_id']].iloc[similarity_scores.index].to_json"
   ]
  },
  {
   "cell_type": "code",
   "execution_count": 18,
   "id": "4a89f60f",
   "metadata": {},
   "outputs": [
    {
     "name": "stdout",
     "output_type": "stream",
     "text": [
      "Getting recommendations for movie:  Toy Story\n",
      "<bound method NDFrame.to_json of                                                    title    imdb_id\n",
      "15279                                        Toy Story 3  tt0435761\n",
      "11234                                  Snoopy, Come Home  tt0069289\n",
      "2979                                         Toy Story 2  tt0120363\n",
      "18753  Don't Eat the Pictures: Sesame Street at the M...  tt0331999\n",
      "17102                                      Open Season 3  tt1646926\n",
      "25544                                 Garfield Gets Real  tt1059793\n",
      "1928                             Honey I Blew Up the Kid  tt0104437\n",
      "29089                                       Space Dogs 2  tt3600950\n",
      "12150                                         Fred Claus  tt0486583\n",
      "31764                          The Man Called Flintstone  tt0060661>\n"
     ]
    }
   ],
   "source": [
    "print(getRecommendation(test_movie, cosine_similarity, movie_indices, df))"
   ]
  },
  {
   "cell_type": "code",
   "execution_count": null,
   "id": "b14f8652",
   "metadata": {},
   "outputs": [],
   "source": [
    "                              "
   ]
  }
 ],
 "metadata": {
  "kernelspec": {
   "display_name": "Python 3.9.1 ('.venv': venv)",
   "language": "python",
   "name": "python3"
  },
  "language_info": {
   "codemirror_mode": {
    "name": "ipython",
    "version": 3
   },
   "file_extension": ".py",
   "mimetype": "text/x-python",
   "name": "python",
   "nbconvert_exporter": "python",
   "pygments_lexer": "ipython3",
   "version": "3.9.1"
  },
  "vscode": {
   "interpreter": {
    "hash": "415dbfe1158ded8bab2665c425988abaf3ac1fe3ede1af701bcbd907f10d45db"
   }
  }
 },
 "nbformat": 4,
 "nbformat_minor": 5
}
