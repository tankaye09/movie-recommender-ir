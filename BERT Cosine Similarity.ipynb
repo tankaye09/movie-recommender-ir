{
 "cells": [
  {
   "cell_type": "markdown",
   "id": "52fa1ab0",
   "metadata": {},
   "source": [
    "# Content Based Movie Recommender - Semantic BERT"
   ]
  },
  {
   "cell_type": "code",
   "execution_count": 2,
   "id": "7dc736f4",
   "metadata": {},
   "outputs": [],
   "source": [
    "import pandas as pd\n",
    "import pickle\n",
    "import torch\n",
    "import transformers"
   ]
  },
  {
   "cell_type": "markdown",
   "id": "4c918c88",
   "metadata": {},
   "source": [
    "Load dataset"
   ]
  },
  {
   "cell_type": "code",
   "execution_count": 2,
   "id": "eccea0ce",
   "metadata": {},
   "outputs": [
    {
     "data": {
      "text/html": [
       "<div>\n",
       "<style scoped>\n",
       "    .dataframe tbody tr th:only-of-type {\n",
       "        vertical-align: middle;\n",
       "    }\n",
       "\n",
       "    .dataframe tbody tr th {\n",
       "        vertical-align: top;\n",
       "    }\n",
       "\n",
       "    .dataframe thead th {\n",
       "        text-align: right;\n",
       "    }\n",
       "</style>\n",
       "<table border=\"1\" class=\"dataframe\">\n",
       "  <thead>\n",
       "    <tr style=\"text-align: right;\">\n",
       "      <th></th>\n",
       "      <th>Unnamed: 0</th>\n",
       "      <th>index</th>\n",
       "      <th>adult</th>\n",
       "      <th>belongs_to_collection</th>\n",
       "      <th>budget</th>\n",
       "      <th>genres</th>\n",
       "      <th>homepage</th>\n",
       "      <th>id</th>\n",
       "      <th>imdb_id</th>\n",
       "      <th>original_language</th>\n",
       "      <th>...</th>\n",
       "      <th>release_date</th>\n",
       "      <th>revenue</th>\n",
       "      <th>runtime</th>\n",
       "      <th>spoken_languages</th>\n",
       "      <th>status</th>\n",
       "      <th>tagline</th>\n",
       "      <th>title</th>\n",
       "      <th>video</th>\n",
       "      <th>vote_average</th>\n",
       "      <th>vote_count</th>\n",
       "    </tr>\n",
       "  </thead>\n",
       "  <tbody>\n",
       "    <tr>\n",
       "      <th>0</th>\n",
       "      <td>0</td>\n",
       "      <td>0</td>\n",
       "      <td>False</td>\n",
       "      <td>{'id': 10194, 'name': 'Toy Story Collection', ...</td>\n",
       "      <td>30000000</td>\n",
       "      <td>[{'id': 16, 'name': 'Animation'}, {'id': 35, '...</td>\n",
       "      <td>http://toystory.disney.com/toy-story</td>\n",
       "      <td>862</td>\n",
       "      <td>tt0114709</td>\n",
       "      <td>en</td>\n",
       "      <td>...</td>\n",
       "      <td>1995-10-30</td>\n",
       "      <td>373554033.0</td>\n",
       "      <td>81.0</td>\n",
       "      <td>[{'iso_639_1': 'en', 'name': 'English'}]</td>\n",
       "      <td>Released</td>\n",
       "      <td>NaN</td>\n",
       "      <td>Toy Story</td>\n",
       "      <td>False</td>\n",
       "      <td>7.7</td>\n",
       "      <td>5415.0</td>\n",
       "    </tr>\n",
       "    <tr>\n",
       "      <th>1</th>\n",
       "      <td>1</td>\n",
       "      <td>1</td>\n",
       "      <td>False</td>\n",
       "      <td>NaN</td>\n",
       "      <td>65000000</td>\n",
       "      <td>[{'id': 12, 'name': 'Adventure'}, {'id': 14, '...</td>\n",
       "      <td>NaN</td>\n",
       "      <td>8844</td>\n",
       "      <td>tt0113497</td>\n",
       "      <td>en</td>\n",
       "      <td>...</td>\n",
       "      <td>1995-12-15</td>\n",
       "      <td>262797249.0</td>\n",
       "      <td>104.0</td>\n",
       "      <td>[{'iso_639_1': 'en', 'name': 'English'}, {'iso...</td>\n",
       "      <td>Released</td>\n",
       "      <td>Roll the dice and unleash the excitement!</td>\n",
       "      <td>Jumanji</td>\n",
       "      <td>False</td>\n",
       "      <td>6.9</td>\n",
       "      <td>2413.0</td>\n",
       "    </tr>\n",
       "    <tr>\n",
       "      <th>2</th>\n",
       "      <td>2</td>\n",
       "      <td>2</td>\n",
       "      <td>False</td>\n",
       "      <td>{'id': 119050, 'name': 'Grumpy Old Men Collect...</td>\n",
       "      <td>0</td>\n",
       "      <td>[{'id': 10749, 'name': 'Romance'}, {'id': 35, ...</td>\n",
       "      <td>NaN</td>\n",
       "      <td>15602</td>\n",
       "      <td>tt0113228</td>\n",
       "      <td>en</td>\n",
       "      <td>...</td>\n",
       "      <td>1995-12-22</td>\n",
       "      <td>0.0</td>\n",
       "      <td>101.0</td>\n",
       "      <td>[{'iso_639_1': 'en', 'name': 'English'}]</td>\n",
       "      <td>Released</td>\n",
       "      <td>Still Yelling. Still Fighting. Still Ready for...</td>\n",
       "      <td>Grumpier Old Men</td>\n",
       "      <td>False</td>\n",
       "      <td>6.5</td>\n",
       "      <td>92.0</td>\n",
       "    </tr>\n",
       "    <tr>\n",
       "      <th>3</th>\n",
       "      <td>3</td>\n",
       "      <td>3</td>\n",
       "      <td>False</td>\n",
       "      <td>NaN</td>\n",
       "      <td>16000000</td>\n",
       "      <td>[{'id': 35, 'name': 'Comedy'}, {'id': 18, 'nam...</td>\n",
       "      <td>NaN</td>\n",
       "      <td>31357</td>\n",
       "      <td>tt0114885</td>\n",
       "      <td>en</td>\n",
       "      <td>...</td>\n",
       "      <td>1995-12-22</td>\n",
       "      <td>81452156.0</td>\n",
       "      <td>127.0</td>\n",
       "      <td>[{'iso_639_1': 'en', 'name': 'English'}]</td>\n",
       "      <td>Released</td>\n",
       "      <td>Friends are the people who let you be yourself...</td>\n",
       "      <td>Waiting to Exhale</td>\n",
       "      <td>False</td>\n",
       "      <td>6.1</td>\n",
       "      <td>34.0</td>\n",
       "    </tr>\n",
       "    <tr>\n",
       "      <th>4</th>\n",
       "      <td>4</td>\n",
       "      <td>4</td>\n",
       "      <td>False</td>\n",
       "      <td>{'id': 96871, 'name': 'Father of the Bride Col...</td>\n",
       "      <td>0</td>\n",
       "      <td>[{'id': 35, 'name': 'Comedy'}]</td>\n",
       "      <td>NaN</td>\n",
       "      <td>11862</td>\n",
       "      <td>tt0113041</td>\n",
       "      <td>en</td>\n",
       "      <td>...</td>\n",
       "      <td>1995-02-10</td>\n",
       "      <td>76578911.0</td>\n",
       "      <td>106.0</td>\n",
       "      <td>[{'iso_639_1': 'en', 'name': 'English'}]</td>\n",
       "      <td>Released</td>\n",
       "      <td>Just When His World Is Back To Normal... He's ...</td>\n",
       "      <td>Father of the Bride Part II</td>\n",
       "      <td>False</td>\n",
       "      <td>5.7</td>\n",
       "      <td>173.0</td>\n",
       "    </tr>\n",
       "  </tbody>\n",
       "</table>\n",
       "<p>5 rows × 26 columns</p>\n",
       "</div>"
      ],
      "text/plain": [
       "   Unnamed: 0  index  adult  \\\n",
       "0           0      0  False   \n",
       "1           1      1  False   \n",
       "2           2      2  False   \n",
       "3           3      3  False   \n",
       "4           4      4  False   \n",
       "\n",
       "                               belongs_to_collection    budget  \\\n",
       "0  {'id': 10194, 'name': 'Toy Story Collection', ...  30000000   \n",
       "1                                                NaN  65000000   \n",
       "2  {'id': 119050, 'name': 'Grumpy Old Men Collect...         0   \n",
       "3                                                NaN  16000000   \n",
       "4  {'id': 96871, 'name': 'Father of the Bride Col...         0   \n",
       "\n",
       "                                              genres  \\\n",
       "0  [{'id': 16, 'name': 'Animation'}, {'id': 35, '...   \n",
       "1  [{'id': 12, 'name': 'Adventure'}, {'id': 14, '...   \n",
       "2  [{'id': 10749, 'name': 'Romance'}, {'id': 35, ...   \n",
       "3  [{'id': 35, 'name': 'Comedy'}, {'id': 18, 'nam...   \n",
       "4                     [{'id': 35, 'name': 'Comedy'}]   \n",
       "\n",
       "                               homepage     id    imdb_id original_language  \\\n",
       "0  http://toystory.disney.com/toy-story    862  tt0114709                en   \n",
       "1                                   NaN   8844  tt0113497                en   \n",
       "2                                   NaN  15602  tt0113228                en   \n",
       "3                                   NaN  31357  tt0114885                en   \n",
       "4                                   NaN  11862  tt0113041                en   \n",
       "\n",
       "   ... release_date      revenue  runtime  \\\n",
       "0  ...   1995-10-30  373554033.0     81.0   \n",
       "1  ...   1995-12-15  262797249.0    104.0   \n",
       "2  ...   1995-12-22          0.0    101.0   \n",
       "3  ...   1995-12-22   81452156.0    127.0   \n",
       "4  ...   1995-02-10   76578911.0    106.0   \n",
       "\n",
       "                                    spoken_languages    status  \\\n",
       "0           [{'iso_639_1': 'en', 'name': 'English'}]  Released   \n",
       "1  [{'iso_639_1': 'en', 'name': 'English'}, {'iso...  Released   \n",
       "2           [{'iso_639_1': 'en', 'name': 'English'}]  Released   \n",
       "3           [{'iso_639_1': 'en', 'name': 'English'}]  Released   \n",
       "4           [{'iso_639_1': 'en', 'name': 'English'}]  Released   \n",
       "\n",
       "                                             tagline  \\\n",
       "0                                                NaN   \n",
       "1          Roll the dice and unleash the excitement!   \n",
       "2  Still Yelling. Still Fighting. Still Ready for...   \n",
       "3  Friends are the people who let you be yourself...   \n",
       "4  Just When His World Is Back To Normal... He's ...   \n",
       "\n",
       "                         title  video  vote_average vote_count  \n",
       "0                    Toy Story  False           7.7     5415.0  \n",
       "1                      Jumanji  False           6.9     2413.0  \n",
       "2             Grumpier Old Men  False           6.5       92.0  \n",
       "3            Waiting to Exhale  False           6.1       34.0  \n",
       "4  Father of the Bride Part II  False           5.7      173.0  \n",
       "\n",
       "[5 rows x 26 columns]"
      ]
     },
     "execution_count": 2,
     "metadata": {},
     "output_type": "execute_result"
    }
   ],
   "source": [
    "df = pd.read_csv('./movie_lens_dataset/movies_metadata_processed.csv', low_memory=False)\n",
    "df.head()"
   ]
  },
  {
   "cell_type": "code",
   "execution_count": 3,
   "id": "102427e0",
   "metadata": {},
   "outputs": [
    {
     "data": {
      "text/plain": [
       "(41368, 26)"
      ]
     },
     "execution_count": 3,
     "metadata": {},
     "output_type": "execute_result"
    }
   ],
   "source": [
    "df.shape"
   ]
  },
  {
   "cell_type": "markdown",
   "id": "ff298f4a",
   "metadata": {},
   "source": [
    "BERT is basically a stack of transformer/ encoder layers. It understands the context of a sentence efficiently by observing the sentence from the left as well as from right i.e., bidirectionally. It is a pre trained language model, which performs the following two tasks primarily.\n",
    "\n",
    "Masked Language Modelling (MLM)\n",
    "\n",
    "Next Sequence Prediction (NSP)"
   ]
  },
  {
   "cell_type": "markdown",
   "id": "80cb6cc9",
   "metadata": {},
   "source": [
    "### Creating pretrained tokenizer and model"
   ]
  },
  {
   "cell_type": "code",
   "execution_count": 4,
   "id": "f36f5a2e",
   "metadata": {},
   "outputs": [],
   "source": [
    "bert_model=transformers.DistilBertModel\n",
    "berttokenizer=transformers.DistilBertTokenizer\n",
    "weights_type=\"distilbert-base-uncased\""
   ]
  },
  {
   "cell_type": "code",
   "execution_count": 5,
   "id": "7bdc80fe",
   "metadata": {},
   "outputs": [
    {
     "data": {
      "application/vnd.jupyter.widget-view+json": {
       "model_id": "9c5cc73d3b164e018961094006c25300",
       "version_major": 2,
       "version_minor": 0
      },
      "text/plain": [
       "Downloading vocab.txt:   0%|          | 0.00/226k [00:00<?, ?B/s]"
      ]
     },
     "metadata": {},
     "output_type": "display_data"
    },
    {
     "data": {
      "application/vnd.jupyter.widget-view+json": {
       "model_id": "417ce07f075949bfb2420b7886f38c81",
       "version_major": 2,
       "version_minor": 0
      },
      "text/plain": [
       "Downloading tokenizer_config.json:   0%|          | 0.00/28.0 [00:00<?, ?B/s]"
      ]
     },
     "metadata": {},
     "output_type": "display_data"
    },
    {
     "data": {
      "application/vnd.jupyter.widget-view+json": {
       "model_id": "e38fa6b17a084bf2973f8c1b2761849d",
       "version_major": 2,
       "version_minor": 0
      },
      "text/plain": [
       "Downloading config.json:   0%|          | 0.00/483 [00:00<?, ?B/s]"
      ]
     },
     "metadata": {},
     "output_type": "display_data"
    },
    {
     "data": {
      "application/vnd.jupyter.widget-view+json": {
       "model_id": "405a1c0a9e0b402f9fd8b6194999bcc2",
       "version_major": 2,
       "version_minor": 0
      },
      "text/plain": [
       "Downloading pytorch_model.bin:   0%|          | 0.00/256M [00:00<?, ?B/s]"
      ]
     },
     "metadata": {},
     "output_type": "display_data"
    },
    {
     "name": "stderr",
     "output_type": "stream",
     "text": [
      "Some weights of the model checkpoint at distilbert-base-uncased were not used when initializing DistilBertModel: ['vocab_transform.weight', 'vocab_projector.weight', 'vocab_transform.bias', 'vocab_layer_norm.weight', 'vocab_layer_norm.bias', 'vocab_projector.bias']\n",
      "- This IS expected if you are initializing DistilBertModel from the checkpoint of a model trained on another task or with another architecture (e.g. initializing a BertForSequenceClassification model from a BertForPreTraining model).\n",
      "- This IS NOT expected if you are initializing DistilBertModel from the checkpoint of a model that you expect to be exactly identical (initializing a BertForSequenceClassification model from a BertForSequenceClassification model).\n"
     ]
    }
   ],
   "source": [
    "tokenizer=berttokenizer.from_pretrained(weights_type)\n",
    "model=bert_model.from_pretrained(weights_type ,output_hidden_states=True)"
   ]
  },
  {
   "cell_type": "markdown",
   "id": "fe81de68",
   "metadata": {},
   "source": [
    "### Encoding all the movie overviews "
   ]
  },
  {
   "cell_type": "code",
   "execution_count": 6,
   "id": "a624d753",
   "metadata": {},
   "outputs": [],
   "source": [
    "inputs=df[\"overview\"].apply((lambda plot: tokenizer.encode(plot, add_special_tokens=True,max_length=100,truncation=True, padding='longest')))"
   ]
  },
  {
   "cell_type": "markdown",
   "id": "0ce0129a",
   "metadata": {},
   "source": [
    "### Adding padding to max length of 100"
   ]
  },
  {
   "cell_type": "code",
   "execution_count": 7,
   "id": "a3eae442",
   "metadata": {},
   "outputs": [],
   "source": [
    "import numpy as np\n",
    "def padding(list_of_sent):\n",
    "    output=[]\n",
    "    max_len=100\n",
    "    for sent in list_of_sent.values:\n",
    "        padded_sent=sent+[0]*(max_len-len(sent))\n",
    "        output.append(padded_sent)\n",
    "    output = np.array(output)\n",
    "    return output"
   ]
  },
  {
   "cell_type": "code",
   "execution_count": 8,
   "id": "07f773b3",
   "metadata": {},
   "outputs": [],
   "source": [
    "inputs=padding(inputs)"
   ]
  },
  {
   "cell_type": "code",
   "execution_count": 9,
   "id": "49b9eab3",
   "metadata": {},
   "outputs": [
    {
     "data": {
      "text/plain": [
       "array([  101, 22941, 12120,  2848,  7523, 22454,  2604,  2208,  2330,\n",
       "        2341,  8687,  2088,  4895,  9148, 13027,  2135, 13260,  5070,\n",
       "        4639,  2040,  7567,  2503,  2208,  2656,  2095,  2542,  2282,\n",
       "        5070,  2015,  3246,  4071,  3926,  2208, 11268, 19188,  2093,\n",
       "        2424,  2770,  5016, 24091, 17119,  2891,  4763, 10608, 17082,\n",
       "        6492,   102,     0,     0,     0,     0,     0,     0,     0,\n",
       "           0,     0,     0,     0,     0,     0,     0,     0,     0,\n",
       "           0,     0,     0,     0,     0,     0,     0,     0,     0,\n",
       "           0,     0,     0,     0,     0,     0,     0,     0,     0,\n",
       "           0,     0,     0,     0,     0,     0,     0,     0,     0,\n",
       "           0,     0,     0,     0,     0,     0,     0,     0,     0,\n",
       "           0])"
      ]
     },
     "execution_count": 9,
     "metadata": {},
     "output_type": "execute_result"
    }
   ],
   "source": [
    "inputs[1]"
   ]
  },
  {
   "cell_type": "markdown",
   "id": "4d9b6143",
   "metadata": {},
   "source": [
    "### Creating attention mask"
   ]
  },
  {
   "cell_type": "code",
   "execution_count": 10,
   "id": "34d13943",
   "metadata": {},
   "outputs": [],
   "source": [
    "mask=np.where(inputs!=0,1,0)"
   ]
  },
  {
   "cell_type": "markdown",
   "id": "90aa1958",
   "metadata": {},
   "source": [
    "Converting inputs and attention mask into tensors"
   ]
  },
  {
   "cell_type": "code",
   "execution_count": 11,
   "id": "69408957",
   "metadata": {},
   "outputs": [],
   "source": [
    "embedded_inputs=torch.tensor(inputs)\n",
    "attention_mask=torch.tensor(mask)"
   ]
  },
  {
   "cell_type": "code",
   "execution_count": 12,
   "id": "a34df762",
   "metadata": {},
   "outputs": [
    {
     "data": {
      "text/plain": [
       "torch.Size([41368, 100])"
      ]
     },
     "execution_count": 12,
     "metadata": {},
     "output_type": "execute_result"
    }
   ],
   "source": [
    "embedded_inputs.shape"
   ]
  },
  {
   "cell_type": "code",
   "execution_count": 13,
   "id": "d791efe4",
   "metadata": {},
   "outputs": [
    {
     "data": {
      "text/plain": [
       "torch.Size([41368, 100])"
      ]
     },
     "execution_count": 13,
     "metadata": {},
     "output_type": "execute_result"
    }
   ],
   "source": [
    "attention_mask.shape"
   ]
  },
  {
   "cell_type": "markdown",
   "id": "d08b6e38",
   "metadata": {},
   "source": [
    "# Running pretrained model"
   ]
  },
  {
   "cell_type": "markdown",
   "id": "229f0eca",
   "metadata": {},
   "source": [
    "Setting batch size to prevent CPU memory allocation error"
   ]
  },
  {
   "cell_type": "code",
   "execution_count": 14,
   "id": "546c90fb",
   "metadata": {},
   "outputs": [],
   "source": [
    "BATCH_SIZE = 32"
   ]
  },
  {
   "cell_type": "code",
   "execution_count": 15,
   "id": "3a91578a",
   "metadata": {},
   "outputs": [],
   "source": [
    "from torch.utils.data import DataLoader\n",
    "embedded_inputs_dataloader = DataLoader(embedded_inputs, batch_size=BATCH_SIZE)\n",
    "attention_mask_dataloader = DataLoader(attention_mask, batch_size=BATCH_SIZE)"
   ]
  },
  {
   "cell_type": "markdown",
   "id": "acb2ecef",
   "metadata": {},
   "source": [
    "Adding all the last hidden states of every batch into a list"
   ]
  },
  {
   "cell_type": "code",
   "execution_count": 16,
   "id": "930ba4db",
   "metadata": {},
   "outputs": [],
   "source": [
    "device = torch.device('cuda') if torch.cuda.is_available() else torch.device('cpu')\n",
    "model.to(device)\n",
    "\n",
    "output = []\n",
    "\n",
    "with torch.no_grad():\n",
    "    for emb, attn in zip(embedded_inputs_dataloader, attention_mask_dataloader):\n",
    "        states = model(emb, attention_mask=attn)\n",
    "        output.append(states.last_hidden_state)"
   ]
  },
  {
   "cell_type": "code",
   "execution_count": 18,
   "id": "54ffa606",
   "metadata": {},
   "outputs": [
    {
     "name": "stdout",
     "output_type": "stream",
     "text": [
      "output dumped\n"
     ]
    }
   ],
   "source": [
    "with open('./pickle/output.pkl', 'wb') as f:\n",
    "    pickle.dump(output, f, protocol=pickle.HIGHEST_PROTOCOL)\n",
    "    print(\"output dumped\")"
   ]
  },
  {
   "cell_type": "markdown",
   "id": "eca89b60",
   "metadata": {},
   "source": [
    "Concatenating all the hidden states from all batches into a large tensor and extracting the features into a numpy array"
   ]
  },
  {
   "cell_type": "code",
   "execution_count": 3,
   "id": "5b8588c8",
   "metadata": {},
   "outputs": [
    {
     "name": "stdout",
     "output_type": "stream",
     "text": [
      "output loaded\n"
     ]
    }
   ],
   "source": [
    "with open('./pickle/output.pkl', 'rb') as f:\n",
    "    output = pickle.load(f)\n",
    "    print(\"output loaded\")"
   ]
  },
  {
   "cell_type": "code",
   "execution_count": 4,
   "id": "fe0dbf61",
   "metadata": {},
   "outputs": [],
   "source": [
    "output_tensor = torch.cat(output, 0)"
   ]
  },
  {
   "cell_type": "code",
   "execution_count": 5,
   "id": "b4e89736",
   "metadata": {},
   "outputs": [],
   "source": [
    "extracted_features = output_tensor[:,0,:].numpy()"
   ]
  },
  {
   "cell_type": "code",
   "execution_count": 6,
   "id": "bbfd5ac6",
   "metadata": {},
   "outputs": [
    {
     "data": {
      "text/plain": [
       "(41368, 768)"
      ]
     },
     "execution_count": 6,
     "metadata": {},
     "output_type": "execute_result"
    }
   ],
   "source": [
    "extracted_features.shape"
   ]
  },
  {
   "cell_type": "markdown",
   "id": "bd1f3f81",
   "metadata": {},
   "source": [
    "### Saving extracted features into pickle"
   ]
  },
  {
   "cell_type": "code",
   "execution_count": 7,
   "id": "58d54b9c",
   "metadata": {},
   "outputs": [
    {
     "name": "stdout",
     "output_type": "stream",
     "text": [
      "Extracted features saved!\n"
     ]
    }
   ],
   "source": [
    "with open(\"./pickle/bert_extracted_features.pickle\", \"wb\") as handle:\n",
    "    pickle.dump(extracted_features, handle, protocol=pickle.HIGHEST_PROTOCOL)\n",
    "    print(\"Extracted features saved!\")"
   ]
  },
  {
   "cell_type": "markdown",
   "id": "5bf0e3f1",
   "metadata": {},
   "source": [
    "# Getting recommendations"
   ]
  },
  {
   "cell_type": "code",
   "execution_count": 8,
   "id": "cddf70e8",
   "metadata": {},
   "outputs": [],
   "source": [
    "from sklearn.metrics.pairwise import cosine_similarity"
   ]
  },
  {
   "cell_type": "code",
   "execution_count": 9,
   "id": "2fb49b09",
   "metadata": {},
   "outputs": [],
   "source": [
    "with open(\"./pickle/bert_extracted_features.pickle\", \"rb\") as handle:\n",
    "    extracted_features = pickle.load(handle)"
   ]
  },
  {
   "cell_type": "code",
   "execution_count": 10,
   "id": "e268e2ef",
   "metadata": {},
   "outputs": [],
   "source": [
    "cos_sim=cosine_similarity(extracted_features,extracted_features)"
   ]
  },
  {
   "cell_type": "code",
   "execution_count": null,
   "id": "682a78b9",
   "metadata": {},
   "outputs": [],
   "source": [
    "cos_sim.shape"
   ]
  },
  {
   "cell_type": "markdown",
   "id": "ae253b79",
   "metadata": {},
   "source": [
    "### Saving cosine similarity"
   ]
  },
  {
   "cell_type": "code",
   "execution_count": 12,
   "id": "170c6707",
   "metadata": {},
   "outputs": [
    {
     "name": "stdout",
     "output_type": "stream",
     "text": [
      "Consine similarity saved!\n"
     ]
    }
   ],
   "source": [
    "with open(\"./pickle/bert_cosine_similarity.pickle\", \"wb\") as handle:\n",
    "    pickle.dump(cos_sim, handle, protocol=pickle.HIGHEST_PROTOCOL)\n",
    "    print(\"Consine similarity saved!\")"
   ]
  },
  {
   "cell_type": "code",
   "execution_count": 20,
   "id": "c9923202",
   "metadata": {},
   "outputs": [
    {
     "name": "stdout",
     "output_type": "stream",
     "text": [
      "Cosine similarity loaded\n"
     ]
    }
   ],
   "source": [
    "with open('./pickle/bert_cosine_similarity.pickle', 'rb') as f:\n",
    "    cos_sim = pickle.load(f)\n",
    "    print(\"Cosine similarity loaded\")"
   ]
  },
  {
   "cell_type": "markdown",
   "id": "08ef45fb",
   "metadata": {},
   "source": [
    "Loading movie indices"
   ]
  },
  {
   "cell_type": "code",
   "execution_count": 13,
   "id": "8520da1c",
   "metadata": {},
   "outputs": [],
   "source": [
    "with open('./pickle/movie_indices.pickle', 'rb') as handle:\n",
    "    movie_indices = pickle.load(handle)"
   ]
  },
  {
   "cell_type": "code",
   "execution_count": 15,
   "id": "0aac39d4",
   "metadata": {},
   "outputs": [
    {
     "data": {
      "text/html": [
       "<div>\n",
       "<style scoped>\n",
       "    .dataframe tbody tr th:only-of-type {\n",
       "        vertical-align: middle;\n",
       "    }\n",
       "\n",
       "    .dataframe tbody tr th {\n",
       "        vertical-align: top;\n",
       "    }\n",
       "\n",
       "    .dataframe thead th {\n",
       "        text-align: right;\n",
       "    }\n",
       "</style>\n",
       "<table border=\"1\" class=\"dataframe\">\n",
       "  <thead>\n",
       "    <tr style=\"text-align: right;\">\n",
       "      <th></th>\n",
       "      <th>Unnamed: 0</th>\n",
       "      <th>index</th>\n",
       "      <th>adult</th>\n",
       "      <th>belongs_to_collection</th>\n",
       "      <th>budget</th>\n",
       "      <th>genres</th>\n",
       "      <th>homepage</th>\n",
       "      <th>id</th>\n",
       "      <th>imdb_id</th>\n",
       "      <th>original_language</th>\n",
       "      <th>...</th>\n",
       "      <th>release_date</th>\n",
       "      <th>revenue</th>\n",
       "      <th>runtime</th>\n",
       "      <th>spoken_languages</th>\n",
       "      <th>status</th>\n",
       "      <th>tagline</th>\n",
       "      <th>title</th>\n",
       "      <th>video</th>\n",
       "      <th>vote_average</th>\n",
       "      <th>vote_count</th>\n",
       "    </tr>\n",
       "  </thead>\n",
       "  <tbody>\n",
       "    <tr>\n",
       "      <th>0</th>\n",
       "      <td>0</td>\n",
       "      <td>0</td>\n",
       "      <td>False</td>\n",
       "      <td>{'id': 10194, 'name': 'Toy Story Collection', ...</td>\n",
       "      <td>30000000</td>\n",
       "      <td>[{'id': 16, 'name': 'Animation'}, {'id': 35, '...</td>\n",
       "      <td>http://toystory.disney.com/toy-story</td>\n",
       "      <td>862</td>\n",
       "      <td>tt0114709</td>\n",
       "      <td>en</td>\n",
       "      <td>...</td>\n",
       "      <td>1995-10-30</td>\n",
       "      <td>373554033.0</td>\n",
       "      <td>81.0</td>\n",
       "      <td>[{'iso_639_1': 'en', 'name': 'English'}]</td>\n",
       "      <td>Released</td>\n",
       "      <td>NaN</td>\n",
       "      <td>Toy Story</td>\n",
       "      <td>False</td>\n",
       "      <td>7.7</td>\n",
       "      <td>5415.0</td>\n",
       "    </tr>\n",
       "    <tr>\n",
       "      <th>1</th>\n",
       "      <td>1</td>\n",
       "      <td>1</td>\n",
       "      <td>False</td>\n",
       "      <td>NaN</td>\n",
       "      <td>65000000</td>\n",
       "      <td>[{'id': 12, 'name': 'Adventure'}, {'id': 14, '...</td>\n",
       "      <td>NaN</td>\n",
       "      <td>8844</td>\n",
       "      <td>tt0113497</td>\n",
       "      <td>en</td>\n",
       "      <td>...</td>\n",
       "      <td>1995-12-15</td>\n",
       "      <td>262797249.0</td>\n",
       "      <td>104.0</td>\n",
       "      <td>[{'iso_639_1': 'en', 'name': 'English'}, {'iso...</td>\n",
       "      <td>Released</td>\n",
       "      <td>Roll the dice and unleash the excitement!</td>\n",
       "      <td>Jumanji</td>\n",
       "      <td>False</td>\n",
       "      <td>6.9</td>\n",
       "      <td>2413.0</td>\n",
       "    </tr>\n",
       "    <tr>\n",
       "      <th>2</th>\n",
       "      <td>2</td>\n",
       "      <td>2</td>\n",
       "      <td>False</td>\n",
       "      <td>{'id': 119050, 'name': 'Grumpy Old Men Collect...</td>\n",
       "      <td>0</td>\n",
       "      <td>[{'id': 10749, 'name': 'Romance'}, {'id': 35, ...</td>\n",
       "      <td>NaN</td>\n",
       "      <td>15602</td>\n",
       "      <td>tt0113228</td>\n",
       "      <td>en</td>\n",
       "      <td>...</td>\n",
       "      <td>1995-12-22</td>\n",
       "      <td>0.0</td>\n",
       "      <td>101.0</td>\n",
       "      <td>[{'iso_639_1': 'en', 'name': 'English'}]</td>\n",
       "      <td>Released</td>\n",
       "      <td>Still Yelling. Still Fighting. Still Ready for...</td>\n",
       "      <td>Grumpier Old Men</td>\n",
       "      <td>False</td>\n",
       "      <td>6.5</td>\n",
       "      <td>92.0</td>\n",
       "    </tr>\n",
       "    <tr>\n",
       "      <th>3</th>\n",
       "      <td>3</td>\n",
       "      <td>3</td>\n",
       "      <td>False</td>\n",
       "      <td>NaN</td>\n",
       "      <td>16000000</td>\n",
       "      <td>[{'id': 35, 'name': 'Comedy'}, {'id': 18, 'nam...</td>\n",
       "      <td>NaN</td>\n",
       "      <td>31357</td>\n",
       "      <td>tt0114885</td>\n",
       "      <td>en</td>\n",
       "      <td>...</td>\n",
       "      <td>1995-12-22</td>\n",
       "      <td>81452156.0</td>\n",
       "      <td>127.0</td>\n",
       "      <td>[{'iso_639_1': 'en', 'name': 'English'}]</td>\n",
       "      <td>Released</td>\n",
       "      <td>Friends are the people who let you be yourself...</td>\n",
       "      <td>Waiting to Exhale</td>\n",
       "      <td>False</td>\n",
       "      <td>6.1</td>\n",
       "      <td>34.0</td>\n",
       "    </tr>\n",
       "    <tr>\n",
       "      <th>4</th>\n",
       "      <td>4</td>\n",
       "      <td>4</td>\n",
       "      <td>False</td>\n",
       "      <td>{'id': 96871, 'name': 'Father of the Bride Col...</td>\n",
       "      <td>0</td>\n",
       "      <td>[{'id': 35, 'name': 'Comedy'}]</td>\n",
       "      <td>NaN</td>\n",
       "      <td>11862</td>\n",
       "      <td>tt0113041</td>\n",
       "      <td>en</td>\n",
       "      <td>...</td>\n",
       "      <td>1995-02-10</td>\n",
       "      <td>76578911.0</td>\n",
       "      <td>106.0</td>\n",
       "      <td>[{'iso_639_1': 'en', 'name': 'English'}]</td>\n",
       "      <td>Released</td>\n",
       "      <td>Just When His World Is Back To Normal... He's ...</td>\n",
       "      <td>Father of the Bride Part II</td>\n",
       "      <td>False</td>\n",
       "      <td>5.7</td>\n",
       "      <td>173.0</td>\n",
       "    </tr>\n",
       "  </tbody>\n",
       "</table>\n",
       "<p>5 rows × 26 columns</p>\n",
       "</div>"
      ],
      "text/plain": [
       "   Unnamed: 0  index  adult  \\\n",
       "0           0      0  False   \n",
       "1           1      1  False   \n",
       "2           2      2  False   \n",
       "3           3      3  False   \n",
       "4           4      4  False   \n",
       "\n",
       "                               belongs_to_collection    budget  \\\n",
       "0  {'id': 10194, 'name': 'Toy Story Collection', ...  30000000   \n",
       "1                                                NaN  65000000   \n",
       "2  {'id': 119050, 'name': 'Grumpy Old Men Collect...         0   \n",
       "3                                                NaN  16000000   \n",
       "4  {'id': 96871, 'name': 'Father of the Bride Col...         0   \n",
       "\n",
       "                                              genres  \\\n",
       "0  [{'id': 16, 'name': 'Animation'}, {'id': 35, '...   \n",
       "1  [{'id': 12, 'name': 'Adventure'}, {'id': 14, '...   \n",
       "2  [{'id': 10749, 'name': 'Romance'}, {'id': 35, ...   \n",
       "3  [{'id': 35, 'name': 'Comedy'}, {'id': 18, 'nam...   \n",
       "4                     [{'id': 35, 'name': 'Comedy'}]   \n",
       "\n",
       "                               homepage     id    imdb_id original_language  \\\n",
       "0  http://toystory.disney.com/toy-story    862  tt0114709                en   \n",
       "1                                   NaN   8844  tt0113497                en   \n",
       "2                                   NaN  15602  tt0113228                en   \n",
       "3                                   NaN  31357  tt0114885                en   \n",
       "4                                   NaN  11862  tt0113041                en   \n",
       "\n",
       "   ... release_date      revenue  runtime  \\\n",
       "0  ...   1995-10-30  373554033.0     81.0   \n",
       "1  ...   1995-12-15  262797249.0    104.0   \n",
       "2  ...   1995-12-22          0.0    101.0   \n",
       "3  ...   1995-12-22   81452156.0    127.0   \n",
       "4  ...   1995-02-10   76578911.0    106.0   \n",
       "\n",
       "                                    spoken_languages    status  \\\n",
       "0           [{'iso_639_1': 'en', 'name': 'English'}]  Released   \n",
       "1  [{'iso_639_1': 'en', 'name': 'English'}, {'iso...  Released   \n",
       "2           [{'iso_639_1': 'en', 'name': 'English'}]  Released   \n",
       "3           [{'iso_639_1': 'en', 'name': 'English'}]  Released   \n",
       "4           [{'iso_639_1': 'en', 'name': 'English'}]  Released   \n",
       "\n",
       "                                             tagline  \\\n",
       "0                                                NaN   \n",
       "1          Roll the dice and unleash the excitement!   \n",
       "2  Still Yelling. Still Fighting. Still Ready for...   \n",
       "3  Friends are the people who let you be yourself...   \n",
       "4  Just When His World Is Back To Normal... He's ...   \n",
       "\n",
       "                         title  video  vote_average vote_count  \n",
       "0                    Toy Story  False           7.7     5415.0  \n",
       "1                      Jumanji  False           6.9     2413.0  \n",
       "2             Grumpier Old Men  False           6.5       92.0  \n",
       "3            Waiting to Exhale  False           6.1       34.0  \n",
       "4  Father of the Bride Part II  False           5.7      173.0  \n",
       "\n",
       "[5 rows x 26 columns]"
      ]
     },
     "execution_count": 15,
     "metadata": {},
     "output_type": "execute_result"
    }
   ],
   "source": [
    "df = pd.read_csv('./movie_lens_dataset/movies_metadata_processed.csv', low_memory=False)\n",
    "df.head()"
   ]
  },
  {
   "cell_type": "markdown",
   "id": "c7a63164",
   "metadata": {},
   "source": [
    "Load processed dataset"
   ]
  },
  {
   "cell_type": "code",
   "execution_count": 14,
   "id": "6cdad60d",
   "metadata": {},
   "outputs": [
    {
     "data": {
      "text/plain": [
       "title\n",
       "Toy Story                          0\n",
       "Jumanji                            1\n",
       "Grumpier Old Men                   2\n",
       "Waiting to Exhale                  3\n",
       "Father of the Bride Part II        4\n",
       "                               ...  \n",
       "Caged Heat 3000                41363\n",
       "Subdue                         41364\n",
       "Century of Birthing            41365\n",
       "Satan Triumphant               41366\n",
       "Queerama                       41367\n",
       "Length: 41368, dtype: int64"
      ]
     },
     "execution_count": 14,
     "metadata": {},
     "output_type": "execute_result"
    }
   ],
   "source": [
    "movie_indices"
   ]
  },
  {
   "cell_type": "code",
   "execution_count": null,
   "id": "aa75945c",
   "metadata": {},
   "outputs": [],
   "source": [
    "test_movie = \"Toy Story\"\n",
    "movie_index = movie_indices[test_movie]\n",
    "movie_index"
   ]
  },
  {
   "cell_type": "code",
   "execution_count": null,
   "id": "9d0ef198",
   "metadata": {},
   "outputs": [],
   "source": [
    "similarity_scores = pd.Series(cos_sim[movie_index]).sort_values(ascending = False)[1:11]"
   ]
  },
  {
   "cell_type": "code",
   "execution_count": null,
   "id": "8ae45cf3",
   "metadata": {},
   "outputs": [],
   "source": [
    "similarity_scores"
   ]
  },
  {
   "cell_type": "code",
   "execution_count": null,
   "id": "c9d2472e",
   "metadata": {},
   "outputs": [],
   "source": [
    "df[['title','imdb_id']].iloc[similarity_scores.index]"
   ]
  },
  {
   "cell_type": "markdown",
   "id": "7a8c7fc3",
   "metadata": {},
   "source": [
    "Loading cosine similarity"
   ]
  },
  {
   "cell_type": "code",
   "execution_count": null,
   "id": "3e42d851",
   "metadata": {},
   "outputs": [],
   "source": [
    "with open(\"./pickle/bert_cosine_similarity.pickle\", \"rb\") as handle:\n",
    "    cosine_similarity = pickle.load(handle)"
   ]
  },
  {
   "cell_type": "code",
   "execution_count": 17,
   "id": "b568abf7",
   "metadata": {},
   "outputs": [],
   "source": [
    "def getTfIdfRecommendations(name: str, cosine_sim, movie_indices, df):\n",
    "    print(\"Getting recommendations for:\", name)\n",
    "\n",
    "    # Get index of query movie\n",
    "    movie_index = movie_indices[name]\n",
    "    \n",
    "    similarity_scores = pd.DataFrame(cosine_sim[movie_index], columns=['score'])\n",
    "    \n",
    "    # Top 10\n",
    "    top_indices = similarity_scores.sort_values(by=\"score\", ascending=False)[1:11].index\n",
    "    \n",
    "    # Get movie title, release date and poster path\n",
    "    output = df[['title', 'release_date', 'poster_path']].iloc[top_indices]\n",
    "\n",
    "    output['score'] = similarity_scores.sort_values(by=\"score\", ascending=False)['score'][1:11]\n",
    "\n",
    "    output.to_csv('./output/bert/{}.csv'.format(name))\n",
    "    \n",
    "    return output"
   ]
  },
  {
   "cell_type": "markdown",
   "id": "b14f8652",
   "metadata": {},
   "source": [
    "# Evaluation Set                              "
   ]
  },
  {
   "cell_type": "code",
   "execution_count": 23,
   "id": "11b235d1",
   "metadata": {},
   "outputs": [],
   "source": [
    "import random\n",
    "random.seed(1997)\n",
    "a = []\n",
    "for i in range(20):\n",
    "    a.append(random.randint(0,len(df)))\n",
    "test_movies = movie_indices.iloc[a]"
   ]
  },
  {
   "cell_type": "code",
   "execution_count": 24,
   "id": "a6696346",
   "metadata": {},
   "outputs": [
    {
     "name": "stdout",
     "output_type": "stream",
     "text": [
      "Getting recommendations for: The First Beautiful Thing\n",
      "                                    title release_date  \\\n",
      "5898                          La traviata   1982-10-07   \n",
      "26123          The Killer Must Kill Again   1975-03-07   \n",
      "31843            Joan of Arc at the Stake   1954-12-20   \n",
      "16896             Two Cents Worth of Hope   1952-04-10   \n",
      "35294        Sorry if I Want to Marry You   2010-02-12   \n",
      "28385                      People of Rome   2003-10-31   \n",
      "31775                         Isla bonita   2015-11-06   \n",
      "26053                          Guendalina   1957-08-03   \n",
      "18444  The Friends at the Margherita Cafe   2009-04-03   \n",
      "11832               Seduced and Abandoned   1964-01-30   \n",
      "\n",
      "                            poster_path     score  \n",
      "5898   /lYWKpgfzwfB8I3lNHVW6icIxcOV.jpg  0.954027  \n",
      "26123   /sCzsIrWLks0YTAoA3PUHLdyhGA.jpg  0.949415  \n",
      "31843  /lZB9UbrvzAxV9cIOSJC0rTD8JJa.jpg  0.947300  \n",
      "16896  /afbrL6JVDlJ0rNd02A8n2icoIKp.jpg  0.945397  \n",
      "35294  /1H9sm66aVIXwwYP5AYbKv9Qfo7i.jpg  0.944443  \n",
      "28385  /qBKmKXRVujInvaPVia0oFWAdhcY.jpg  0.944435  \n",
      "31775  /ydjcSJPyUIENt6wmOrKwwPQxCtw.jpg  0.944318  \n",
      "26053  /3YOBnqWLt0uP64pRYXFEKUw9Zv3.jpg  0.943556  \n",
      "18444  /pllsnDCh3hchAe6mjNye9feqOHX.jpg  0.942515  \n",
      "11832  /wuv2oEogkuKVp0sBWXM1uoqEAqd.jpg  0.941010  \n",
      "\n",
      "\n",
      "Getting recommendations for: Vice Versa\n",
      "                                               title release_date  \\\n",
      "40485              Recon 2020:  The Caprini Massacre   2004-05-22   \n",
      "16320                    Nora Roberts' Carolina Moon   2007-02-19   \n",
      "2224                                 King Kong Lives   1986-11-21   \n",
      "8367                                         Incubus   1966-10-26   \n",
      "8457                          Dr. Phibes Rises Again   1972-07-01   \n",
      "2897                   Poison Ivy: The New Seduction   1997-01-01   \n",
      "40799  Live Forever as You Are Now with Alan Resnick   2013-12-24   \n",
      "31085                             Under the Mountain   2009-12-10   \n",
      "3801                                     The 6th Day   2000-11-17   \n",
      "19784                                Lady Terminator   1989-06-10   \n",
      "\n",
      "                            poster_path     score  \n",
      "40485  /3qezbjLEw7PSw06wgloIUIUmT7k.jpg  0.966686  \n",
      "16320  /wHPjrGQWniAHSQufbKRlcNfVeHl.jpg  0.964813  \n",
      "2224   /qxQpWMjsLhB4WojCrw13kCg96ka.jpg  0.962936  \n",
      "8367   /7U5gTwx7uaKThQCW01MeF33JcRW.jpg  0.961799  \n",
      "8457   /cO7XqouecaoqIURLAfWGt5EOa09.jpg  0.961306  \n",
      "2897   /zoJYW6qDORHWctx6vC4HgyRKBOk.jpg  0.961213  \n",
      "40799  /kPb7XQ8geyptAlOMxPAk76lrJNd.jpg  0.960642  \n",
      "31085  /6LbwDIbZ5nCQdrv6QcTuccP7Ebf.jpg  0.960409  \n",
      "3801   /6pBUekwhnjW99V0cLphx7dZE2Wx.jpg  0.958942  \n",
      "19784  /oyUrhAggD7y1h2D7PEQm0AkIRFt.jpg  0.958128  \n",
      "\n",
      "\n",
      "Getting recommendations for: As Good As Dead\n",
      "                            title release_date  \\\n",
      "34216          Prisoner/Terrorist   2007-02-02   \n",
      "35915                  Fratricide   2005-07-31   \n",
      "19668  The Colors of the Mountain   2011-04-27   \n",
      "32051                      Pardon   2005-03-04   \n",
      "40902                       Kavan   2017-03-31   \n",
      "28229                 Madras Cafe   2013-08-23   \n",
      "21321                  Dark Touch   2013-09-27   \n",
      "24563                   The Heavy   2010-04-08   \n",
      "34755                  Hate Story   2012-04-20   \n",
      "9968                    Lila Says   2004-11-01   \n",
      "\n",
      "                            poster_path     score  \n",
      "34216  /l2fo3Ww4dPpjyi4DeUin6kDsIfk.jpg  0.942642  \n",
      "35915  /6hiLCIBk4TeuMX1mm5KqmTM9V8Z.jpg  0.941725  \n",
      "19668   /BTPkdZQ6jGsmrBktMgDl16qPZO.jpg  0.941130  \n",
      "32051  /o8PQFlysrMR3DltvMrr7QvubRbF.jpg  0.938483  \n",
      "40902  /1ro68LFHcsXdxBFCKnIV3Ez9u9l.jpg  0.938273  \n",
      "28229  /q2jJ19VgGgK4nOmd3ml9rmN9D7G.jpg  0.936098  \n",
      "21321  /qxN3v8XxRzzkhKvAKN6eRFxIVnr.jpg  0.935122  \n",
      "24563  /hv6PLEejkJ9kHvmoqD6kTOiExa0.jpg  0.934650  \n",
      "34755  /zmBTn1awEsyORMy5LvX0yjG2IRY.jpg  0.934531  \n",
      "9968    /NbheWDK497HsrzLGqXloQ7vRos.jpg  0.934378  \n",
      "\n",
      "\n",
      "Getting recommendations for: Carousel\n",
      "                                 title release_date  \\\n",
      "12281  Kit Kittredge: An American Girl   2008-07-02   \n",
      "21049                   Good Ol’ Freda   2013-09-06   \n",
      "19984                    Unconditional   2012-09-21   \n",
      "25578                      Seven Alone   1974-12-20   \n",
      "14456   The Roman Spring of Mrs. Stone   1961-12-28   \n",
      "24178                  Going Hollywood   1933-12-22   \n",
      "3542              Love's Labour's Lost   2000-03-31   \n",
      "32403                 Christmas, Again   2014-08-13   \n",
      "28372                  Three Wise Guys   2005-11-30   \n",
      "19534                   The Baby Dance   1998-08-23   \n",
      "\n",
      "                            poster_path     score  \n",
      "12281  /xvOVJmoLlbHFxHw1PBMK72D4jY0.jpg  0.945063  \n",
      "21049  /lu5OWqFDJqMgWlS2Rh59d1QTGzt.jpg  0.944851  \n",
      "19984  /mlO3vgy8jvxVnFhxWS8l8sqOdrx.jpg  0.944450  \n",
      "25578  /y1KXIXUMlOBGNIBDMrXPYM5ll03.jpg  0.944015  \n",
      "14456  /ikifVN9YuJjhkd4LDW17TWVc99y.jpg  0.943972  \n",
      "24178  /nKo7O2KOgzBN56e9FWLtLJ2MrXt.jpg  0.943931  \n",
      "3542   /1VHCfHJ4PpGbmPQWJHF1YoBXRHG.jpg  0.942224  \n",
      "32403  /47cZzv0j1YqwdyT9XGOuVyd0gbb.jpg  0.941849  \n",
      "28372  /o2cyJBp0eYAA3BOVqKM2G96Lnej.jpg  0.941825  \n",
      "19534  /dQmFZ07vHxaFsMUEyGRdZFEx5wi.jpg  0.941758  \n",
      "\n",
      "\n",
      "Getting recommendations for: Julia Sweeney - Letting Go of God\n",
      "                                                  title release_date  \\\n",
      "9541                              Woman Thou Art Loosed   2004-09-30   \n",
      "12736                               Constantine's Sword   2008-04-18   \n",
      "10523                     The Devil and Daniel Johnston   2005-01-23   \n",
      "26809                          Southern Baptist Sissies   2013-11-18   \n",
      "38071                                     A Fuller Life   2013-08-28   \n",
      "19641                                     To the Wonder   2013-02-22   \n",
      "1006                                Looking for Richard   1996-10-11   \n",
      "28948                              The Genius of Marian   2013-04-18   \n",
      "13768  You're Gonna Miss Me: A Film About Roky Erickson   2007-06-10   \n",
      "23466                                Running from Crazy   2013-01-20   \n",
      "\n",
      "                            poster_path     score  \n",
      "9541   /l8u2MKPrYhL3IYNspJGYBKcBxmm.jpg  0.961957  \n",
      "12736  /pZfE6lQGRtFzy1EwSJHmFsB93bz.jpg  0.955465  \n",
      "10523  /lsTH96pTzyr9aX16Cy39rw0Roih.jpg  0.954145  \n",
      "26809  /cEow54v8xnCOT8N36VyMFAOHE5Q.jpg  0.953906  \n",
      "38071  /aBd5u87lqIEqwJuL5gsTRGhE0Wu.jpg  0.952441  \n",
      "19641  /zazIldLqJ1YNZoEsNRitO6KF6Ty.jpg  0.952321  \n",
      "1006   /yXY9EdBCcY9VeOeu570cUlF6wgX.jpg  0.951683  \n",
      "28948  /2Y34islRRXOfOGQ39QPaiob4GGq.jpg  0.951661  \n",
      "13768  /hS5DyrWr5S9D8TxrpNnj4gUKrHO.jpg  0.950069  \n",
      "23466  /uBp5o5BuphaWGheu1c7OXFNuAWA.jpg  0.949441  \n",
      "\n",
      "\n",
      "Getting recommendations for: Crac\n",
      "                                 title release_date  \\\n",
      "36824  Birdboy: The Forgotten Children   2015-09-24   \n",
      "35611       There Will Come Soft Rains   1984-01-01   \n",
      "36283               Nutcracker Fantasy   1979-03-03   \n",
      "17706                       Live Music   2009-11-20   \n",
      "38275      Adventures in Dinosaur City   1991-08-28   \n",
      "35797        The Bremen Town Musicians   1969-06-06   \n",
      "8674             Landscape in the Mist   1988-01-01   \n",
      "33971              To Die By Your Side   2011-05-14   \n",
      "38052             Street of Crocodiles   1986-01-01   \n",
      "28725          Clerks - The Flying Car   2002-02-27   \n",
      "\n",
      "                            poster_path     score  \n",
      "36824  /9UqIT5KX2zjCJldYaO3ok3FHL7j.jpg  0.965893  \n",
      "35611  /heUKXbMGBCynjh7UzwsT4mCOSA1.jpg  0.963993  \n",
      "36283  /4zS3V9xM7VADbyr83Emw2XO7Qel.jpg  0.962605  \n",
      "17706                               NaN  0.961780  \n",
      "38275  /eDOPWIEmQlLTNs4Tyi9DYBEYClp.jpg  0.960368  \n",
      "35797  /7nXW3xZqaAdBYi3sL2N2gBQWAT6.jpg  0.960238  \n",
      "8674   /t1PN0LDEK60sIIPq0wdW3DMhGYC.jpg  0.960104  \n",
      "33971  /qG0NvUmt0CGmukXkNVX7Dfhy8p9.jpg  0.960003  \n",
      "38052  /zg6nmAHQnTzpB4dqHCpbFk6lCeC.jpg  0.959481  \n",
      "28725  /xTOU3HS9LBOyS65CX5SXXUUis8Q.jpg  0.959119  \n",
      "\n",
      "\n",
      "Getting recommendations for: A Bullet for the General\n",
      "                   title release_date                       poster_path  \\\n",
      "21961           Blindman   1971-11-15  /l1bj1GyY71UzVxG1a5gCzHs0Nsd.jpg   \n",
      "38578     Mercury Plains   2016-01-05  /2IBTc4utGPCQ4rWya2yD0GklYRg.jpg   \n",
      "16513      Run, Man, Run   1968-08-29  /wgH5qrisOYku5QFqPJNN1oQ6Xv5.jpg   \n",
      "20194    Three Giant Men   1973-01-01  /6RtxP7ytjkwVlb87yl4jVnpArHy.jpg   \n",
      "29868            Charro!   1969-03-13  /xdQJRn9Xpz8A1JyEDUB6AyAiB3J.jpg   \n",
      "32228          600 Miles   2016-07-15  /fU4Air3f5YbSfnOAXDrtd8bsAAY.jpg   \n",
      "18455   Dolan's Cadillac   2009-10-23  /4V6rjCsa7K0YMUnNHhfAqznYuk6.jpg   \n",
      "30830          El pico 2   1984-11-09  /bfB9Om15x6wQLfvRoEBz2KMxQ5r.jpg   \n",
      "9952           Prime Cut   1972-06-28  /i60X7mwuQDQPCpHEGAl5v3k2aWK.jpg   \n",
      "22100  A Man Named Rocca   1961-11-17  /a0t7EfuX8nSIvWj5B6FpHzZEXr3.jpg   \n",
      "\n",
      "          score  \n",
      "21961  0.944923  \n",
      "38578  0.942841  \n",
      "16513  0.941784  \n",
      "20194  0.941224  \n",
      "29868  0.940652  \n",
      "32228  0.939234  \n",
      "18455  0.937933  \n",
      "30830  0.937102  \n",
      "9952   0.937065  \n",
      "22100  0.936538  \n",
      "\n",
      "\n",
      "Getting recommendations for: Paradh\n",
      "                                  title release_date  \\\n",
      "15277                     PEEPLI [Live]   2010-08-13   \n",
      "31150                  Fakta Ladh Mhana   2011-08-05   \n",
      "23504                           The Pig   2013-10-09   \n",
      "33945                              Dhol   2007-09-14   \n",
      "34360                              Holi   1985-04-08   \n",
      "33643                               'D'   2005-06-03   \n",
      "33262  Aamdani Atthanni Kharcha Rupaiya   2001-12-21   \n",
      "14394                        One 2 Ka 4   2001-03-29   \n",
      "33406             Maine Dil Tujhko Diya   2002-08-23   \n",
      "19144                         Dabangg 2   2012-12-21   \n",
      "\n",
      "                            poster_path     score  \n",
      "15277    /qZBRbiaHaOO9tbMl35gApkZ28.jpg  0.959882  \n",
      "31150  /19rMXgQC8actdKD75Rjicu4IM7T.jpg  0.953656  \n",
      "23504  /zOdBq9yMfDKMMW3XMPIv2gZID8M.jpg  0.952064  \n",
      "33945  /pwKplDj8SPj8gORGX6hj9MoJElt.jpg  0.950984  \n",
      "34360  /rS9v7M5R2GwDGs4Blm3pQqF0yTK.jpg  0.950598  \n",
      "33643  /lDL3RikOCwbH6qEUtVHr7HJ6PFy.jpg  0.946815  \n",
      "33262  /1lPqDluWLYdQVPkfG3Hj3Iq2L1o.jpg  0.946767  \n",
      "14394  /l2rVlQOqPnuw29DfYruQOQ4B25j.jpg  0.946560  \n",
      "33406  /iLHJRFBhww1f9FSJvtwZ8eElpKQ.jpg  0.946194  \n",
      "19144   /7ipmidtykeZwAp2oSCtrWkKTQ2.jpg  0.945467  \n",
      "\n",
      "\n",
      "Getting recommendations for: Night People\n",
      "                                   title release_date  \\\n",
      "26206                     Goodbye & Amen   1978-02-08   \n",
      "11095              Don't Drink the Water   1994-12-18   \n",
      "21669                   Vodka, Mr. Palmu   1969-03-07   \n",
      "27929             A Man Could Get Killed   1966-03-25   \n",
      "18715                                NaN          NaN   \n",
      "33582                           Asambhav   2004-07-22   \n",
      "12463                             Pu-239   2006-01-01   \n",
      "13930                    Hidden Assassin   1995-12-15   \n",
      "4441                        Red Scorpion   1988-12-24   \n",
      "7560   Police Academy: Mission to Moscow   1994-06-09   \n",
      "\n",
      "                            poster_path     score  \n",
      "26206  /eU11vyCkOa96YjZMUFYyL8OzDA2.jpg  0.949475  \n",
      "11095  /wZA38GVWpsKOBtemv234CipY6jO.jpg  0.949313  \n",
      "21669  /jzKFdoD8KANNtuwnvcatqasnBsu.jpg  0.949050  \n",
      "27929   /Pqn2T5kLvO2ctGZBvFFJm8sCkG.jpg  0.947423  \n",
      "18715                               NaN  0.946649  \n",
      "33582  /c0G87YigTYW1O5bhNzxSNZ41AVQ.jpg  0.946054  \n",
      "12463  /42ke2o5dGTmcpN6lbzbKevsdZJP.jpg  0.945110  \n",
      "13930  /mBxL28j9Qm6yBsGsK9jNqX1erwO.jpg  0.944832  \n",
      "4441   /vAOaT9nyh1IMrXm0AkWgbbiSqad.jpg  0.944473  \n",
      "7560   /mpUOqZcs7VVg9LrVPRZKAGPiTT2.jpg  0.942588  \n",
      "\n",
      "\n",
      "Getting recommendations for: The American\n",
      "                                   title release_date  \\\n",
      "25125           The King and Four Queens   1956-12-21   \n",
      "1822               The French Connection   1971-10-09   \n",
      "16861          The Story of Temple Drake   1933-05-06   \n",
      "13573                   Lies & Illusions   2009-08-26   \n",
      "20119                       Scenic Route   2013-08-23   \n",
      "2754                           Body Heat   1981-08-28   \n",
      "24375  No Man's Land: The Rise of Reeker   2008-05-01   \n",
      "21934         A Haunting at Silver Falls   2013-05-28   \n",
      "17366                  Evidence of Blood   1998-04-13   \n",
      "17901                             Twelve   2010-07-30   \n",
      "\n",
      "                            poster_path     score  \n",
      "25125  /hWLwpzPVWV6vqeEYdzOKBNxhuuV.jpg  0.966885  \n",
      "1822   /xwDi4wF0I1L5bSW08Y8GocDGjJP.jpg  0.966065  \n",
      "16861  /1JD814DfhkJ6lz1tUp0ok2t0NXp.jpg  0.964607  \n",
      "13573  /sIU83S3RHcm4rHdwSFyZCTlfjFk.jpg  0.964007  \n",
      "20119  /f4OVjo7OKTFF8o54BY60Y3fBiBF.jpg  0.963415  \n",
      "2754   /zjKyX72bNa6aSXZUvQpB223zDBe.jpg  0.963403  \n",
      "24375  /kNKC9eMzPtqGkq5yPbi61hzgTv8.jpg  0.961903  \n",
      "21934  /ljr4r0T6BaTLj67DtositlU2LzD.jpg  0.961352  \n",
      "17366  /7rcBu2xMZabuEAP9qHOtrzaytGt.jpg  0.960880  \n",
      "17901  /i1c32oHJY6CcWfj9IbXGExvMT21.jpg  0.960678  \n",
      "\n",
      "\n",
      "Getting recommendations for: X-Men\n",
      "                                                   title release_date  \\\n",
      "34597                                        Yoga Hosers   2016-07-08   \n",
      "28849                                R.O.D - Read or Die   2001-05-23   \n",
      "37460              Roller Blade Warriors: Taken by Force   1989-04-28   \n",
      "18058                             Superman vs. The Elite   2012-06-12   \n",
      "23604                             Penguins of Madagascar   2014-11-22   \n",
      "15163        Cats & Dogs 2 : The Revenge of Kitty Galore   2010-07-30   \n",
      "3554                                            The Fury   1978-03-10   \n",
      "4371                 American Ninja 2: The Confrontation   1987-05-01   \n",
      "37473                                          Max Steel   2016-10-14   \n",
      "37515  The Rocky Horror Picture Show: Let's Do the Ti...   2016-10-20   \n",
      "\n",
      "                            poster_path     score  \n",
      "34597  /t9K1uUCJsbrFGKYivSH1JBPfvyc.jpg  0.962313  \n",
      "28849  /zLzNUCHBRfmnlwDZ8d1BFaLn8Sv.jpg  0.959093  \n",
      "37460  /lAgGb4jpG3gLNPtt5R8VanYUszy.jpg  0.958549  \n",
      "18058  /cilpU63HE0nsbqMytvO3Mlltotw.jpg  0.958303  \n",
      "23604  /pRer59eyY4rjkLPeKXKo7fPxCHH.jpg  0.957886  \n",
      "15163  /6V1TFvZsbQi2fpxIZtseqBCvuRM.jpg  0.957332  \n",
      "3554   /u23CCG87bWtpnPuSLMWpLkdK75H.jpg  0.956153  \n",
      "4371   /qZT15rkBfTz1kSgoesSInVm7TXH.jpg  0.955445  \n",
      "37473  /inFoGkUfzg56iuTBVDifzTq7jVx.jpg  0.954953  \n",
      "37515  /uIYYQ0WG7EuqCteCzhJxKDDfLn2.jpg  0.954907  \n",
      "\n",
      "\n",
      "Getting recommendations for: Legalese\n",
      "                             title release_date  \\\n",
      "22602       A Dangerous Profession   1949-12-10   \n",
      "22450                         R100   2013-10-05   \n",
      "28592   Io so che tu sai che io so   1982-01-01   \n",
      "24559           No Questions Asked   1951-06-15   \n",
      "3603            Shaft's Big Score!   1972-06-08   \n",
      "1715                    Live Flesh   1997-10-28   \n",
      "4023           Reversal of Fortune   1990-10-05   \n",
      "27447                    Crossplot   1969-11-25   \n",
      "25265  The Girl in Black Stockings   1957-09-24   \n",
      "15529              Secret Ceremony   1968-10-23   \n",
      "\n",
      "                            poster_path     score  \n",
      "22602  /htry9aEQYnOTO4430sCRPzatDIz.jpg  0.975131  \n",
      "22450  /l5zLRa45GuQ8UbkW8eughxdFVx9.jpg  0.972873  \n",
      "28592  /74UW9qaDe7ahhMAQBziaMCVQKyM.jpg  0.972704  \n",
      "24559  /i7cEEn0hJ0SOypjtOZRFhHbYvqp.jpg  0.971575  \n",
      "3603   /jioGhMgP8d7eu1G7YT7xeyLOJuc.jpg  0.971355  \n",
      "1715   /6fpt82Sfpkzw4dZgKgZMVFoaMBb.jpg  0.971190  \n",
      "4023   /7n8Rl18eWdR1r7xRJWBPzfhPYxy.jpg  0.970998  \n",
      "27447  /eEOPLzGpq7x97WXlFqiPEOLtf1C.jpg  0.969926  \n",
      "25265  /4R5OAHGbkqroGMsTOliRfLE7Rsx.jpg  0.969732  \n",
      "15529  /iyhhGu3LdW6eV70FoCWQL50ENgF.jpg  0.969672  \n",
      "\n",
      "\n",
      "Getting recommendations for: The Day\n",
      "                                 title release_date  \\\n",
      "11327                   Seraphim Falls   2006-09-13   \n",
      "38536                Day of the Reaper   1984-10-31   \n",
      "28459  Blank: A Vinylmation Love Story   2014-02-14   \n",
      "31396               The Forgotten Ones   2008-11-08   \n",
      "41302          It Stains the Sands Red   2016-10-08   \n",
      "15199                       Red Canyon   2008-01-01   \n",
      "32346                       The Chiefs   2004-10-07   \n",
      "37970                      Wolfskinder   2013-08-28   \n",
      "41140                           Zygote   2017-07-12   \n",
      "27637                         Breeders   1997-08-09   \n",
      "\n",
      "                            poster_path     score  \n",
      "11327  /9OEc8U0h8lr52UTIIqz3luvt2fD.jpg  0.959357  \n",
      "38536   /bsjYDSMQkdWBcqa84jQQU4gp2f.jpg  0.956640  \n",
      "28459  /wPB8IkU8pE6ZYxSaFivyb002NKb.jpg  0.956375  \n",
      "31396  /ruMnHwLFGnyZRnSFcbuQLdB9TfA.jpg  0.956321  \n",
      "41302  /rBCjDBa2Dau9WqEslCpdJni394M.jpg  0.955988  \n",
      "15199  /oLXeKh3Y4acLn0JrMHkhiieK5xE.jpg  0.954411  \n",
      "32346  /v5N8vYkvpdkr8L77DguXCeUoy5N.jpg  0.953981  \n",
      "37970  /n9hQH9W40KQtrrpTr4YTFwt9sYL.jpg  0.953428  \n",
      "41140  /rjm7KaiLsEwRcxnlsaX9ryzzK1B.jpg  0.953419  \n",
      "27637  /vpBu2LSFBUnvgWOeXuftQUC39wW.jpg  0.953340  \n",
      "\n",
      "\n",
      "Getting recommendations for: Kamchatka\n",
      "                                              title release_date  \\\n",
      "21620  Concepción Arenal, la visitadora de cárceles   2012-01-01   \n",
      "36990                   Rampage: Capital Punishment   2014-07-19   \n",
      "39491                            White Collar Blues   1975-03-27   \n",
      "19262                               After Porn Ends   2012-05-21   \n",
      "17588                                 Woman in Love   2011-12-15   \n",
      "39678                            The Age of Shadows   2016-09-07   \n",
      "31793                               All Three of Us   2015-11-04   \n",
      "12676                                   Body of War   2007-09-11   \n",
      "40897                       Three Songs About Lenin   1934-11-06   \n",
      "33612                                        Lusers   2015-10-01   \n",
      "\n",
      "                            poster_path     score  \n",
      "21620  /pQt53NgpFKK8cbXDjkkmHlZwUjy.jpg  0.949854  \n",
      "36990  /pSpChn2UgYNzRFA0eR3YyBuoOAo.jpg  0.948273  \n",
      "39491  /oHqHe0MNqcbmw5Qa3075KIzE4G7.jpg  0.947085  \n",
      "19262  /oafknDfM7ORReGCGWgl2Cv6BPGm.jpg  0.945765  \n",
      "17588  /71SxWKou3zX5nkcXzdB4i5yjcH3.jpg  0.945564  \n",
      "39678  /6muQ6lCytv0qldjA7aDT8EpPmtF.jpg  0.945071  \n",
      "31793  /vikgxNhTyYr9U9CdHNjMXHN3QWj.jpg  0.944458  \n",
      "12676  /efGBWtWSUX9ex7lJAuGKLy0KWcb.jpg  0.944180  \n",
      "40897  /tLERpu800cBsYFxvEf3rt2OiS5F.jpg  0.943508  \n",
      "33612  /xtAWnkPVxrcLw9LGh51ZC0cTGnv.jpg  0.943169  \n",
      "\n",
      "\n",
      "Getting recommendations for: Champagne\n",
      "                            title release_date  \\\n",
      "19545                  Upperworld   1934-04-28   \n",
      "6735                    Pure Luck   1991-08-09   \n",
      "40753  The Delicious Little Devil   1919-05-01   \n",
      "25233            Their Own Desire   1929-12-27   \n",
      "22927          El malvado Carabel   1956-10-15   \n",
      "16679             The Arrangement   1969-01-01   \n",
      "40230             Good Intentions   2010-03-09   \n",
      "4045                      Tomcats   2001-03-30   \n",
      "605           Bread and Chocolate   1974-05-05   \n",
      "9774                      Bad Guy   2002-01-11   \n",
      "\n",
      "                            poster_path     score  \n",
      "19545  /cZay3dVoqbfk2CdGcZJ0c79sCiY.jpg  0.966098  \n",
      "6735   /cFztt9qWWg0SrJmTDsvXlsXPkDF.jpg  0.962519  \n",
      "40753  /6KtQnCDqWoFkC1Bqmlmbg0isJX6.jpg  0.958066  \n",
      "25233  /p1YwMpgJ0ZSVFMai90svQnkThUm.jpg  0.958014  \n",
      "22927  /r38AQxAP4iJst2qudkfHTMFGBVi.jpg  0.957316  \n",
      "16679  /ktC6VbFnly1uXMnGi8kKIQUx5s8.jpg  0.956372  \n",
      "40230  /scjaVU7isCYHtDVgyOCqPY9mGco.jpg  0.954859  \n",
      "4045   /7ShM4P9lFZeuvFfb7vSOVaQPAk7.jpg  0.953196  \n",
      "605    /avYBMsT8qj3A5xR68WAMvR5bLL6.jpg  0.953081  \n",
      "9774   /j4B73v7lzhVT9mNrcmTQmV6iaNh.jpg  0.952346  \n",
      "\n",
      "\n",
      "Getting recommendations for: Magnum Cop\n",
      "                                                   title release_date  \\\n",
      "173                                    Lord of Illusions   1995-08-25   \n",
      "13553                                    The Dark Corner   1946-04-09   \n",
      "20579                                         On the Job   2013-05-23   \n",
      "6732                                   Presumed Innocent   1990-07-26   \n",
      "36604                            Who Killed Aunt Maggie?   1940-11-01   \n",
      "4491                               The Cat o' Nine Tails   1971-02-11   \n",
      "28702                Green Street Hooligans: Underground   2013-01-01   \n",
      "33165                                           iMurders   2008-08-09   \n",
      "25150                                 The Shanghai Cobra   1945-09-29   \n",
      "38479  A Perry Mason Mystery: The Case of the Grimaci...   1994-11-09   \n",
      "\n",
      "                            poster_path     score  \n",
      "173    /9pwdoUes8V8ntTetsKtv2ThGeIm.jpg  0.960879  \n",
      "13553  /cVrXfL093hniU3V2zjzzWvWb9WI.jpg  0.960362  \n",
      "20579  /iPiwUeF2vhA7t7cVvaUa8gmMceq.jpg  0.956253  \n",
      "6732   /sE6tuclHXvrst1ZFAYwcPr1OT1L.jpg  0.955615  \n",
      "36604  /uDIzITvDVxVCK6ApI0eVmBhi3wY.jpg  0.955502  \n",
      "4491   /zS41KSGoiX6D8dkhR99Han1uDRe.jpg  0.955333  \n",
      "28702  /47O0DRT92EIfWEOYTjMQIF1vBE2.jpg  0.955127  \n",
      "33165  /4siEtkfXfPbmjulFBbz0sUnDPki.jpg  0.955000  \n",
      "25150  /zIrugT2QxtLpyM1djsPpPwbnDdb.jpg  0.954635  \n",
      "38479                               NaN  0.954304  \n",
      "\n",
      "\n",
      "Getting recommendations for: The Master: A Lego Ninjago Short\n",
      "                                            title release_date  \\\n",
      "41078                                      Banana   2010-12-13   \n",
      "35606                            Rescued by Rover   1905-07-03   \n",
      "18102                  Iria: Zeiram the Animation   1994-06-23   \n",
      "32799                 Taxi, Trailer and Bullfight   1958-11-22   \n",
      "34721                           Crazy Over Horses   1951-09-09   \n",
      "32002                       100 grams for Bravery   1976-01-01   \n",
      "24600                         Master of the World   1961-05-01   \n",
      "19963                              Wedding Trough   1975-01-01   \n",
      "12996  Kung Fu Panda: Secrets of the Furious Five   2008-11-08   \n",
      "34949                             Natural Enemies   1979-11-01   \n",
      "\n",
      "                            poster_path     score  \n",
      "41078  /afIcxtzw37hunY6VkQw0DqKslO7.jpg  0.975752  \n",
      "35606  /wi8sxMp2kDVnleYl3o71NIDPh7q.jpg  0.969486  \n",
      "18102  /gGT1UXYc5tF5kJ2G9ra8FiGzaNW.jpg  0.968111  \n",
      "32799  /wVwBk7vrglYp10mcfjJahxOHFaO.jpg  0.967814  \n",
      "34721  /7zPtVIba8PT5y2A0pNoxlZCRw6N.jpg  0.967526  \n",
      "32002  /eMlteKE8EfK6lpoScy57m1ZLi3V.jpg  0.965348  \n",
      "24600  /2GZT3dFTRyeL2em8ksjAUb3TEdp.jpg  0.965289  \n",
      "19963   /IhlK2FMQMd6mb16Gwq3GwUzCPf.jpg  0.964803  \n",
      "12996  /AlSqOP7VnEhc2x170V2eZMTgzsA.jpg  0.964680  \n",
      "34949  /2ypLT5nBQ0eGMgkjbE7Aa0u0zDX.jpg  0.964660  \n",
      "\n",
      "\n",
      "Getting recommendations for: Bad Santa\n",
      "                    title release_date                       poster_path  \\\n",
      "8465              Slither   1973-03-07  /4CG7Jay9u5dYVkgF6U8JzyRYqlm.jpg   \n",
      "34723       Feudin' Fools   1952-09-21  /deA5UffN77Fqx8lgbEjQ0BaHk8F.jpg   \n",
      "39988       Plain Clothes   1988-01-01  /5oCPnfFsMZbFNECJ5Wby1G2Ujia.jpg   \n",
      "720         A Close Shave   1995-12-24  /efFW4euBJIha6WVJoBPSfyui2Aa.jpg   \n",
      "6925         No Good Deed   2002-06-28  /vGwbyQOGOG5WRKcemHREpdSviMO.jpg   \n",
      "39181           Halloweed   2016-10-18  /ma3iEdGRYYIQMBwfP5012Q4BN27.jpg   \n",
      "21716         Kill Me Now   2012-12-05  /i3kyIdjZiWYt5CGUvGTDUYICmrU.jpg   \n",
      "26136  Beer for My Horses   2008-08-08  /q0fqg8UNYMleU1b2RnKsuiurl6f.jpg   \n",
      "10541               Brick   2005-01-30  /hyALqQpaTv0GGV4axqePihEmCY8.jpg   \n",
      "17804         Zero Bridge   2011-02-16  /ed222wopyML25PhMnItamnoe4BA.jpg   \n",
      "\n",
      "          score  \n",
      "8465   0.967604  \n",
      "34723  0.961866  \n",
      "39988  0.961204  \n",
      "720    0.960955  \n",
      "6925   0.960342  \n",
      "39181  0.959906  \n",
      "21716  0.958782  \n",
      "26136  0.958490  \n",
      "10541  0.958173  \n",
      "17804  0.957152  \n",
      "\n",
      "\n",
      "Getting recommendations for: Dirty Girl\n",
      "                                          title release_date  \\\n",
      "28695  Gingerdead Man 3: Saturday Night Cleaver   2011-09-13   \n",
      "24613                          Ping Pong Summer   2014-06-06   \n",
      "38629                                  Pork Pie   2017-02-02   \n",
      "37416                               London Town   2017-08-03   \n",
      "18749          The Rutles 2: Can't Buy Me Lunch   2002-01-01   \n",
      "4156         Whatever Happened to Harold Smith?   2000-03-10   \n",
      "29348     Alice Cooper: Welcome to my Nightmare   1975-11-28   \n",
      "37574                       Manson's Lost Girls   2016-02-06   \n",
      "999                          That Thing You Do!   1996-10-04   \n",
      "4639                             Divine Madness   1980-09-26   \n",
      "\n",
      "                            poster_path     score  \n",
      "28695  /eRiqDKnHyhnXGo9ENj08ozTfMbS.jpg  0.954101  \n",
      "24613  /2dXEEznF48Hr48BU9QQeiXVLaOr.jpg  0.952241  \n",
      "38629  /eiKlqTjva0z6RpKmBuln2KmcOEC.jpg  0.949658  \n",
      "37416  /f19Ei5nSFHGcv18vv2njTneYr2I.jpg  0.948716  \n",
      "18749  /oOL07aahupecb6FPBS8ufnW9Fo1.jpg  0.947792  \n",
      "4156   /gIg9npmb46nHWdnsa5Eix8faK8d.jpg  0.945794  \n",
      "29348  /uaIJbbkEv4MvECSQiFBZoC0bugs.jpg  0.945477  \n",
      "37574  /4ih0JNyeotEPBFWdKPzsGMOn7wc.jpg  0.944782  \n",
      "999    /luSHsQYyX0aukrHPL5joYOxcsO9.jpg  0.944294  \n",
      "4639   /uu0mcT4hqBlPgAuMKut6W5gmEYc.jpg  0.944231  \n",
      "\n",
      "\n",
      "Getting recommendations for: Aliyah\n",
      "                         title release_date                       poster_path  \\\n",
      "12090             Just Anybody   2008-04-02  /hmfNJC9oi0AOEOWzgNb66efuhg6.jpg   \n",
      "21881          Pulling Strings   2013-10-05  /48eAeeMq9sW5qBhP2wkFsCHYhz1.jpg   \n",
      "22971              Love, Rosie   2014-10-16  /qGYr7P3s0gx5YLvrILnbAkpTt1K.jpg   \n",
      "39290              Going South   2009-12-30  /nbRu3zFmkvFxCyjYg8yT5oTWkZs.jpg   \n",
      "5154               About a Boy   2002-04-26  /1kz4Q2v7cxwNnTfkjrujzWAVCne.jpg   \n",
      "20312  The Late Mathias Pascal   1926-02-12  /ctkbWQG3RA9B2wkrMjLNID2rr6j.jpg   \n",
      "24713          Expecting Amish   2014-07-19  /52YLkttkfh2SOk0Xsqc5ini9NM6.jpg   \n",
      "1742                    Go Now   1995-09-16  /tnAOFBSuMTpWTiFfrWlgBnwzLdS.jpg   \n",
      "37753               Mandragora   1997-10-23  /8tJ2NPXk5PmXqKOTbVH1FzFD1dc.jpg   \n",
      "17429              On Thin Ice   2009-09-23  /o0onIHRy9VY7aizXjEXrLSEeN3S.jpg   \n",
      "\n",
      "          score  \n",
      "12090  0.954656  \n",
      "21881  0.954234  \n",
      "22971  0.953714  \n",
      "39290  0.953634  \n",
      "5154   0.952791  \n",
      "20312  0.952468  \n",
      "24713  0.951457  \n",
      "1742   0.950838  \n",
      "37753  0.950820  \n",
      "17429  0.950239  \n",
      "\n",
      "\n"
     ]
    }
   ],
   "source": [
    "for movie, movieId in test_movies.iteritems():\n",
    "    print(getTfIdfRecommendations(movie, cos_sim, movie_indices, df))\n",
    "    print(\"\\n\")"
   ]
  },
  {
   "cell_type": "code",
   "execution_count": null,
   "id": "77265be0",
   "metadata": {},
   "outputs": [],
   "source": []
  }
 ],
 "metadata": {
  "kernelspec": {
   "display_name": "Python 3.10.0 ('.venv': venv)",
   "language": "python",
   "name": "python3"
  },
  "language_info": {
   "codemirror_mode": {
    "name": "ipython",
    "version": 3
   },
   "file_extension": ".py",
   "mimetype": "text/x-python",
   "name": "python",
   "nbconvert_exporter": "python",
   "pygments_lexer": "ipython3",
   "version": "3.10.0"
  },
  "vscode": {
   "interpreter": {
    "hash": "e406f06e83772e61ee3b8b42d3da2ce527560daa58c5ff24b5bac492ee36807f"
   }
  }
 },
 "nbformat": 4,
 "nbformat_minor": 5
}
