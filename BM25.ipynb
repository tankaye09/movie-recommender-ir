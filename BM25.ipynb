{
 "cells": [
  {
   "cell_type": "markdown",
   "metadata": {},
   "source": [
    "Code for OkapiBM25"
   ]
  },
  {
   "cell_type": "code",
   "execution_count": 36,
   "metadata": {},
   "outputs": [],
   "source": [
    "# Get relevant imports\n",
    "import math\n",
    "import numpy as np\n",
    "import pandas as pd"
   ]
  },
  {
   "cell_type": "code",
   "execution_count": 37,
   "metadata": {},
   "outputs": [],
   "source": [
    "# BM25 class, with tf and idf calculations\n",
    "class BM25:\n",
    "    def __init__(self, data):\n",
    "        self.data_size = 0\n",
    "        self.avgdl = 0\n",
    "        self.doc_freqs = []\n",
    "        self.idf = {}\n",
    "        self.doc_len = []\n",
    "\n",
    "        tf = self.cal_tf(data)\n",
    "        self._calc_idf(tf)\n",
    "\n",
    "    def cal_tf(self, data):\n",
    "        tf = {}  # term -> number of documents with term\n",
    "        num_doc = 0\n",
    "        for document in data:\n",
    "            self.doc_len.append(len(document))\n",
    "            num_doc += len(document)\n",
    "\n",
    "            frequencies = {}\n",
    "            for term in document:\n",
    "                if term not in frequencies:\n",
    "                    frequencies[term] = 0\n",
    "                frequencies[term] += 1\n",
    "            self.doc_freqs.append(frequencies)\n",
    "\n",
    "            for term, freq in frequencies.items():\n",
    "                try:\n",
    "                    tf[term]+=1\n",
    "                except KeyError:\n",
    "                    tf[term] = 1\n",
    "\n",
    "            self.data_size += 1\n",
    "\n",
    "        self.avgdl = num_doc / self.data_size\n",
    "        return tf\n",
    "\n",
    "    def _calc_idf(self, tf):\n",
    "        raise NotImplementedError()\n",
    "\n",
    "    def get_scores(self, query):\n",
    "        raise NotImplementedError()\n",
    "\n",
    "    def get_batch_scores(self, query, doc_ids):\n",
    "        raise NotImplementedError()\n",
    "\n",
    "    def get_top_n(self, query, documents, n=5):\n",
    "\n",
    "        assert self.data_size == len(documents), \"The documents given don't match the index data!\"\n",
    "\n",
    "        scores = self.get_scores(query)\n",
    "        top_n = np.argsort(scores)[::-1][:n]\n",
    "        return [documents[i] for i in top_n]\n",
    "\n",
    "# BM25Okapi class, inheriting from BM25\n",
    "class BM25Okapi(BM25):\n",
    "    def __init__(self, data, k1 = 1.5, b = 0.75, epsilon=0):\n",
    "        self.k1 = k1\n",
    "        self.b = b\n",
    "        self.epsilon = epsilon\n",
    "        super().__init__(data)\n",
    "\n",
    "    def _calc_idf(self, tf):\n",
    "        # collect idf sum to calculate an average idf for epsilon value, default floor of idf is set to 0\n",
    "        # collect words with negative idf to set them a special epsilon value.\n",
    "        # idf can be negative if term is contained in more than half of documents\n",
    "        idf_sum = 0\n",
    "        negative_idfs = []\n",
    "        for term, freq in tf.items():\n",
    "            # freq is document frequency\n",
    "            idf = math.log(self.data_size) - math.log(freq)\n",
    "            self.idf[term] = idf\n",
    "            idf_sum += idf\n",
    "            if idf < 0:\n",
    "                negative_idfs.append(term)\n",
    "        self.average_idf = idf_sum / len(self.idf)\n",
    "\n",
    "        eps = self.epsilon * self.average_idf\n",
    "        for term in negative_idfs:\n",
    "            self.idf[term] = eps\n",
    "\n",
    "    # returns the RSV scores for a query\n",
    "    def get_scores(self, query):\n",
    "        score = np.zeros(self.data_size)\n",
    "        doc_len = np.array(self.doc_len)\n",
    "        for q in query:\n",
    "            q_freq = np.array([(doc.get(q) or 0) for doc in self.doc_freqs])\n",
    "            score += (self.idf.get(q) or 0) * (q_freq * (self.k1 + 1) /\n",
    "                                               (q_freq + self.k1 * (1 - self.b + self.b * doc_len / self.avgdl)))\n",
    "        return score"
   ]
  },
  {
   "cell_type": "code",
   "execution_count": 38,
   "metadata": {},
   "outputs": [
    {
     "name": "stderr",
     "output_type": "stream",
     "text": [
      "C:\\Users\\jstjo\\AppData\\Local\\Temp\\ipykernel_6928\\1346908245.py:1: DtypeWarning: Columns (23) have mixed types. Specify dtype option on import or set low_memory=False.\n",
      "  corpus = pd.read_csv(\"movie_lens_dataset\\movies_metadata_processed_no_stopwords.csv\")\n"
     ]
    }
   ],
   "source": [
    "corpus = pd.read_csv(\"movie_lens_dataset\\movies_metadata_processed_no_stopwords.csv\")"
   ]
  },
  {
   "cell_type": "code",
   "execution_count": 39,
   "metadata": {},
   "outputs": [],
   "source": [
    "# return a dataframe of the top 10 movies with the highest RSV scores given a query\n",
    "def top_related_movies(query_title, corpus, n=10):\n",
    "    overview = corpus['overview']\n",
    "    tokenized_corpus = [doc.split(\" \") for doc in overview]\n",
    "    bm25 = BM25Okapi(tokenized_corpus)\n",
    "    \n",
    "    query = corpus.loc[corpus['original_title'] == query_title, 'overview'].item()\n",
    "    tokenized_query = query.split(\" \")\n",
    "\n",
    "    scores = bm25.get_scores(tokenized_query)\n",
    "    df = pd.DataFrame({\"original_title\": corpus['original_title'], \"release_date\": corpus['release_date'], \"poster_path\": corpus['poster_path'], \"rsv_score\": scores})\n",
    "    top_indices = df.sort_values(by=\"rsv_score\", ascending=False)[1:11].index\n",
    "    output = df[['original_title', 'release_date', 'poster_path', 'rsv_score']].iloc[top_indices]\n",
    "    output.to_csv('./output/bm25/{}.csv'.format(query_title))\n",
    "       \n",
    "    return output"
   ]
  },
  {
   "cell_type": "code",
   "execution_count": 40,
   "metadata": {},
   "outputs": [
    {
     "name": "stdout",
     "output_type": "stream",
     "text": [
      "               original_title release_date                       poster_path  \\\n",
      "2945              Toy Story 2   1999-10-30  /3CmK3XurcLeUyMifCR28ibzupbB.jpg   \n",
      "14703             Toy Story 3   2010-06-16  /mMltbSxwEdNE4Cv8QYLpzkHWTDo.jpg   \n",
      "23023               Small Fry   2011-11-23   /4deuIpnrXuzMAggQk19Jk81CST.jpg   \n",
      "483                    Malice   1993-09-29  /dlTWhgLHdEgSmCa8nEFgN7Hfu05.jpg   \n",
      "1056    Rebel Without a Cause   1955-10-27  /bEAoNvtqvO0c2lItNkKlKUqhPuw.jpg   \n",
      "36254                   Ozzie   2006-09-20  /81WCWEhTobf3fBZ6cJjE5mDXjpE.jpg   \n",
      "16397               Group Sex   2010-08-24  /4mNUWTVathZZtOIFrakwYiUzaVy.jpg   \n",
      "11014  For Your Consideration   2006-11-22  /lLSeBuqgWYJ4MZt18prqtWRTlof.jpg   \n",
      "6319   What's Up, Tiger Lily?   1966-11-02  /AcU8gPPmceM4uUTbAHLwvREDy0o.jpg   \n",
      "1910                Condorman   1981-07-02  /abgxJPCU2AAxP4kSdvdWCU6qr6r.jpg   \n",
      "\n",
      "       rsv_score  \n",
      "2945   99.265152  \n",
      "14703  82.377874  \n",
      "23023  43.532924  \n",
      "483    34.842891  \n",
      "1056   31.868091  \n",
      "36254  31.587017  \n",
      "16397  31.537582  \n",
      "11014  29.069073  \n",
      "6319   29.013491  \n",
      "1910   28.802756  \n"
     ]
    }
   ],
   "source": [
    "print(top_related_movies(\"Toy Story\", corpus))"
   ]
  },
  {
   "cell_type": "code",
   "execution_count": null,
   "metadata": {},
   "outputs": [],
   "source": []
  }
 ],
 "metadata": {
  "kernelspec": {
   "display_name": "Python 3.10.4 64-bit",
   "language": "python",
   "name": "python3"
  },
  "language_info": {
   "codemirror_mode": {
    "name": "ipython",
    "version": 3
   },
   "file_extension": ".py",
   "mimetype": "text/x-python",
   "name": "python",
   "nbconvert_exporter": "python",
   "pygments_lexer": "ipython3",
   "version": "3.10.4"
  },
  "orig_nbformat": 4,
  "vscode": {
   "interpreter": {
    "hash": "5b8254fede94e8eeff9482513906b8c05f275c687b1cc8e780c3b0c73fddf833"
   }
  }
 },
 "nbformat": 4,
 "nbformat_minor": 2
}
